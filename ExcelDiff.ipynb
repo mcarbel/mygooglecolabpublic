{
  "nbformat": 4,
  "nbformat_minor": 0,
  "metadata": {
    "colab": {
      "name": "ExcelDiff.ipynb",
      "provenance": [],
      "authorship_tag": "ABX9TyMFcV8l4Vz2ILGK4BZZXOMd",
      "include_colab_link": true
    },
    "kernelspec": {
      "name": "python3",
      "display_name": "Python 3"
    },
    "language_info": {
      "name": "python"
    }
  },
  "cells": [
    {
      "cell_type": "markdown",
      "metadata": {
        "id": "view-in-github",
        "colab_type": "text"
      },
      "source": [
        "<a href=\"https://colab.research.google.com/github/mcarbel/mygooglecolabpublic/blob/main/ExcelDiff.ipynb\" target=\"_parent\"><img src=\"https://colab.research.google.com/assets/colab-badge.svg\" alt=\"Open In Colab\"/></a>"
      ]
    },
    {
      "cell_type": "code",
      "metadata": {
        "id": "hCVnbIvMurpl"
      },
      "source": [
        "df1 = df1.set_index('id')\n",
        "df2 = df2.set_index('id')\n",
        "\n",
        "df3 = pd.concat([df1,df2],sort=False)\n",
        "df3a = df3.stack().groupby(level=[0,1]).unique().unstack(1).copy()\n",
        "\n",
        "\n",
        "df3a.loc[~df3a.index.isin(df2.index),'status'] = 'deleted' # if not in df2 index then deleted\n",
        "df3a.loc[~df3a.index.isin(df1.index),'status'] = 'new'     # if not in df1 index then new\n",
        "idx = df3.stack().groupby(level=[0,1]).nunique() # get modified cells. \n",
        "df3a.loc[idx.mask(idx <= 1).dropna().index.get_level_values(0),'status'] = 'modified'\n",
        "df3a['status'] = df3a['status'].fillna('same') # assume that anything not fufilled by above rules is the same.\n",
        "\n",
        "print(df3a)\n"
      ],
      "execution_count": null,
      "outputs": []
    }
  ]
}