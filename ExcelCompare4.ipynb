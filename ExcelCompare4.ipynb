{
  "nbformat": 4,
  "nbformat_minor": 0,
  "metadata": {
    "colab": {
      "name": "Welcome To Colaboratory",
      "provenance": [],
      "collapsed_sections": [],
      "include_colab_link": true
    },
    "kernelspec": {
      "display_name": "Python 3",
      "name": "python3"
    }
  },
  "cells": [
    {
      "cell_type": "markdown",
      "metadata": {
        "id": "view-in-github",
        "colab_type": "text"
      },
      "source": [
        "<a href=\"https://colab.research.google.com/github/mcarbel/mygooglecolabpublic/blob/main/ExcelCompare4.ipynb\" target=\"_parent\"><img src=\"https://colab.research.google.com/assets/colab-badge.svg\" alt=\"Open In Colab\"/></a>"
      ]
    },
    {
      "cell_type": "markdown",
      "metadata": {
        "id": "GJBs_flRovLc"
      },
      "source": [
        "## **Getting started**\n",
        "\n",
        "The document you are reading is not a static web page, but an interactive environment called a **Colab notebook** that lets you write and execute code.\n",
        "\n",
        "For example, here is a **code cell** with a short Python script that computes a value, stores it in a variable, and prints the result:"
      ]
    },
    {
      "cell_type": "markdown",
      "metadata": {
        "id": "SBHrauyJUA-n"
      },
      "source": [
        "# **Parameters Setup**\n",
        "# path to files\n"
      ]
    },
    {
      "cell_type": "code",
      "metadata": {
        "id": "gJr_9dXGpJ05"
      },
      "source": [
        "import pandas as pd\n",
        "from pathlib import Path\n",
        "\n",
        "#define parameters\n",
        "#path to files\n",
        "path_old=Path(r'Quoted_Borrowings_valuation_ASK_30.06.2021_DEV_EOM_20210630_20210713.xlsx')\n",
        "path_new=Path(r'Quoted_Borrowings_valuation_ASK_30.06.2021_PROD_EOM_20210630_20210713.xlsx')\n",
        "\n"
      ],
      "execution_count": null,
      "outputs": []
    },
    {
      "cell_type": "code",
      "metadata": {
        "id": "Odg_RVTSW2d5"
      },
      "source": [
        "#list of key column(s)\n",
        "key=['id']\n",
        "#sheets to read in\n",
        "sheet='Sheet1'"
      ],
      "execution_count": null,
      "outputs": []
    },
    {
      "cell_type": "code",
      "metadata": {
        "id": "C2_garSkXKyl"
      },
      "source": [
        "# Read in the two excel files and fill NA\n",
        "old = pd.read_excel(path_old).fillna(0)\n",
        "new = pd.read_excel(path_new).fillna(0)\n"
      ],
      "execution_count": null,
      "outputs": []
    },
    {
      "cell_type": "code",
      "metadata": {
        "id": "vMnBCM4HXLAG"
      },
      "source": [
        "#set index\n",
        "old=old.set_index(key)\n",
        "new=new.set_index(key)"
      ],
      "execution_count": null,
      "outputs": []
    },
    {
      "cell_type": "code",
      "metadata": {
        "id": "ZGHHw8EgXLLg"
      },
      "source": [
        "#identify dropped rows and added (new) rows\n",
        "dropped_rows = set(old.index) - set(new.index)\n",
        "added_rows = set(new.index) - set(old.index)\n"
      ],
      "execution_count": null,
      "outputs": []
    },
    {
      "cell_type": "code",
      "metadata": {
        "id": "BE6HVfbgXLWM"
      },
      "source": [
        "#combine data\n",
        "df_all_changes = pd.concat([old, new], axis='columns', keys=['old','new'], join='inner')\n",
        "\n",
        "#prepare function for comparing old values and new values\n",
        "def report_diff(x):\n",
        "    return x[0] if x[0] == x[1] else '{} ---> {}'.format(*x)\n",
        "\n",
        "#swap column indexes\n",
        "df_all_changes = df_all_changes.swaplevel(axis='columns')[new.columns[0:]]\n",
        "\n",
        "#apply the report_diff function\n",
        "df_changed = df_all_changes.groupby(level=0, axis=1).apply(lambda frame: frame.apply(report_diff, axis=1))"
      ],
      "execution_count": null,
      "outputs": []
    },
    {
      "cell_type": "code",
      "metadata": {
        "id": "EunTLELfXLix"
      },
      "source": [
        "#create a list of text columns (int columns do not have '{} ---> {}')\n",
        "df_changed_text_columns = df_changed.select_dtypes(include='object')\n"
      ],
      "execution_count": null,
      "outputs": []
    },
    {
      "cell_type": "code",
      "metadata": {
        "id": "Ia-o2ysHW2sM"
      },
      "source": [
        "#create 3 datasets:\n",
        "#diff - contains the differences\n",
        "#dropped - contains the dropped rows\n",
        "#added - contains the added rows\n",
        "diff = df_changed_text_columns[df_changed_text_columns.apply(lambda x: x.str.contains(\"--->\") == True, axis=1)]\n",
        "dropped = old.loc[dropped_rows]\n",
        "added = new.loc[added_rows]\n",
        "\n",
        "\n",
        "#create a name for the output excel file\n",
        "fname =  '{} vs {}.xlsx'.format(path_old.stem, path_new.stem)\n",
        "\n",
        "#write dataframe to excel\n",
        "writer=pd.ExcelWriter(fname, engine='xlsxwriter')\n",
        "diff.to_excel(writer, sheet_name='diff', index=True)\n",
        "dropped.to_excel(writer, sheet_name='dropped', index=True)\n",
        "added.to_excel(writer, sheet_name='added', index=True)"
      ],
      "execution_count": null,
      "outputs": []
    },
    {
      "cell_type": "code",
      "metadata": {
        "id": "W1tBxlxFW25Z"
      },
      "source": [
        "#get xlswriter objects\n",
        "workbook = writer.book\n",
        "worksheet = writer.sheets['diff']\n",
        "worksheet.hide_gridlines(2)\n",
        "worksheet.set_default_row(15)"
      ],
      "execution_count": null,
      "outputs": []
    },
    {
      "cell_type": "code",
      "metadata": {
        "id": "ExbETsF-W3FN"
      },
      "source": [
        "#get number of rows of the df diff\n",
        "row_count_str=str(len(diff.index)+1)"
      ],
      "execution_count": null,
      "outputs": []
    },
    {
      "cell_type": "code",
      "metadata": {
        "id": "sI3yiT9hW3VG"
      },
      "source": [
        "#define and apply formats\n",
        "highligt_fmt = workbook.add_format({'font_color': '#FF0000', 'bg_color':'#B1B3B3'})\n",
        "worksheet.conditional_format('A1:ZZ'+row_count_str, {'type':'text', 'criteria':'containing', 'value':'--->',\n",
        "                            'format':highligt_fmt})\n"
      ],
      "execution_count": null,
      "outputs": []
    },
    {
      "cell_type": "code",
      "metadata": {
        "id": "Pzgi2NVcW3hx"
      },
      "source": [
        "#save the output\n",
        "writer.save()\n",
        "print ('\\nDone.\\n')"
      ],
      "execution_count": null,
      "outputs": []
    }
  ]
}