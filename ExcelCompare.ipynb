{
  "nbformat": 4,
  "nbformat_minor": 0,
  "metadata": {
    "colab": {
      "name": "Welcome To Colaboratory",
      "provenance": [],
      "collapsed_sections": [],
      "toc_visible": true,
      "include_colab_link": true
    },
    "kernelspec": {
      "display_name": "Python 3",
      "name": "python3"
    }
  },
  "cells": [
    {
      "cell_type": "markdown",
      "metadata": {
        "id": "view-in-github",
        "colab_type": "text"
      },
      "source": [
        "<a href=\"https://colab.research.google.com/github/mcarbel/mygooglecolabpublic/blob/main/ExcelCompare.ipynb\" target=\"_parent\"><img src=\"https://colab.research.google.com/assets/colab-badge.svg\" alt=\"Open In Colab\"/></a>"
      ]
    },
    {
      "cell_type": "markdown",
      "metadata": {
        "id": "5fCEDCU_qrC0"
      },
      "source": [
        "<p><img alt=\"Colaboratory logo\" height=\"45px\" src=\"/img/colab_favicon.ico\" align=\"left\" hspace=\"10px\" vspace=\"0px\"></p>\n",
        "\n",
        "<h1>What is Colaboratory?</h1>\n",
        "\n",
        "Colaboratory, or \"Colab\" for short, allows you to write and execute Python in your browser, with \n",
        "- Zero configuration required\n",
        "- Free access to GPUs\n",
        "- Easy sharing\n",
        "\n",
        "Whether you're a **student**, a **data scientist** or an **AI researcher**, Colab can make your work easier. Watch [Introduction to Colab](https://www.youtube.com/watch?v=inN8seMm7UI) to learn more, or just get started below!"
      ]
    },
    {
      "cell_type": "markdown",
      "metadata": {
        "id": "GJBs_flRovLc"
      },
      "source": [
        "## **Getting started**\n",
        "\n",
        "The document you are reading is not a static web page, but an interactive environment called a **Colab notebook** that lets you write and execute code.\n",
        "\n",
        "For example, here is a **code cell** with a short Python script that computes a value, stores it in a variable, and prints the result:"
      ]
    },
    {
      "cell_type": "code",
      "metadata": {
        "colab": {
          "base_uri": "https://localhost:8080/",
          "height": 34
        },
        "id": "gJr_9dXGpJ05",
        "outputId": "9f556d03-ec67-4950-a485-cfdba9ddd14d"
      },
      "source": [
        "import pandas as pd\n",
        "from pathlib import Path\n",
        "\n",
        "#define parameters\n",
        "#path to files\n",
        "path_old=Path(r'C:\\Users\\owner\\Documents\\old.xlsx')\n",
        "path_new=Path(r'C:\\Users\\owner\\Documents\\new.xlsx')\n",
        "#list of key column(s)\n",
        "key=['id']\n",
        "#sheets to read in\n",
        "sheet='Sheet1'\n",
        "\n",
        "# Read in the two excel files and fill NA\n",
        "old = pd.read_excel(path_old).fillna(0)\n",
        "new = pd.read_excel(path_new).fillna(0)\n",
        "#set index\n",
        "old=old.set_index(key)\n",
        "new=new.set_index(key)\n",
        "\n",
        "#identify dropped rows and added (new) rows\n",
        "dropped_rows = set(old.index) - set(new.index)\n",
        "added_rows = set(new.index) - set(old.index)\n",
        "\n",
        "#combine data\n",
        "df_all_changes = pd.concat([old, new], axis='columns', keys=['old','new'], join='inner')\n",
        "\n",
        "#prepare functio for comparing old values and new values\n",
        "def report_diff(x):\n",
        "    return x[0] if x[0] == x[1] else '{} ---> {}'.format(*x)\n",
        "\n",
        "#swap column indexes\n",
        "df_all_changes = df_all_changes.swaplevel(axis='columns')[new.columns[0:]]\n",
        "\n",
        "#apply the report_diff function\n",
        "df_changed = df_all_changes.groupby(level=0, axis=1).apply(lambda frame: frame.apply(report_diff, axis=1))\n",
        "\n",
        "#create a list of text columns (int columns do not have '{} ---> {}')\n",
        "df_changed_text_columns = df_changed.select_dtypes(include='object')\n",
        "\n",
        "#create 3 datasets:\n",
        "#diff - contains the differences\n",
        "#dropped - contains the dropped rows\n",
        "#added - contains the added rows\n",
        "diff = df_changed_text_columns[df_changed_text_columns.apply(lambda x: x.str.contains(\"--->\") == True, axis=1)]\n",
        "dropped = old.loc[dropped_rows]\n",
        "added = new.loc[added_rows]\n",
        "\n",
        "\n",
        "#create a name for the output excel file\n",
        "fname =  '{} vs {}.xlsx'.format(path_old.stem, path_new.stem)\n",
        "\n",
        "#write dataframe to excel\n",
        "writer=pd.ExcelWriter(fname, engine='xlsxwriter')\n",
        "diff.to_excel(writer, sheet_name='diff', index=True)\n",
        "dropped.to_excel(writer, sheet_name='dropped', index=True)\n",
        "added.to_excel(writer, sheet_name='added', index=True)\n",
        "\n",
        "#get xlswriter objects\n",
        "workbook = writer.book\n",
        "worksheet = writer.sheets['diff']\n",
        "worksheet.hide_gridlines(2)\n",
        "worksheet.set_default_row(15)\n",
        "\n",
        "#get number of rows of the df diff\n",
        "row_count_str=str(len(diff.index)+1)\n",
        "\n",
        "#define and apply formats\n",
        "highligt_fmt = workbook.add_format({'font_color': '#FF0000', 'bg_color':'#B1B3B3'})\n",
        "worksheet.conditional_format('A1:ZZ'+row_count_str, {'type':'text', 'criteria':'containing', 'value':'--->',\n",
        "                            'format':highligt_fmt})\n",
        "\n",
        "#save the output\n",
        "writer.save()\n",
        "print ('\\nDone.\\n')"
      ],
      "execution_count": null,
      "outputs": [
        {
          "output_type": "execute_result",
          "data": {
            "text/plain": [
              "86400"
            ]
          },
          "metadata": {
            "tags": []
          },
          "execution_count": 0
        }
      ]
    },
    {
      "cell_type": "markdown",
      "metadata": {
        "id": "P-H6Lw1vyNNd"
      },
      "source": [
        "<a name=\"machine-learning-examples\"></a>\n",
        "\n",
        "## Machine Learning Examples\n",
        "\n",
        "To see end-to-end examples of the interactive machine learning analyses that Colaboratory makes possible, check out these  tutorials using models from [TensorFlow Hub](https://tfhub.dev).\n",
        "\n",
        "A few featured examples:\n",
        "\n",
        "- [Retraining an Image Classifier](https://tensorflow.org/hub/tutorials/tf2_image_retraining): Build a Keras model on top of a pre-trained image classifier to distinguish flowers.\n",
        "- [Text Classification](https://tensorflow.org/hub/tutorials/tf2_text_classification): Classify IMDB movie reviews as either *positive* or *negative*.\n",
        "- [Style Transfer](https://tensorflow.org/hub/tutorials/tf2_arbitrary_image_stylization): Use deep learning to transfer style between images.\n",
        "- [Multilingual Universal Sentence Encoder Q&A](https://tensorflow.org/hub/tutorials/retrieval_with_tf_hub_universal_encoder_qa): Use a machine learning model to answer questions from the SQuAD dataset.\n",
        "- [Video Interpolation](https://tensorflow.org/hub/tutorials/tweening_conv3d): Predict what happened in a video between the first and the last frame.\n"
      ]
    }
  ]
}