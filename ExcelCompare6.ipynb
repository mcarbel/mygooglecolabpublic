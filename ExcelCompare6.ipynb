{
  "nbformat": 4,
  "nbformat_minor": 0,
  "metadata": {
    "colab": {
      "name": "Welcome To Colaboratory",
      "provenance": [],
      "collapsed_sections": [],
      "toc_visible": true,
      "include_colab_link": true
    },
    "kernelspec": {
      "display_name": "Python 3",
      "name": "python3"
    }
  },
  "cells": [
    {
      "cell_type": "markdown",
      "metadata": {
        "id": "view-in-github",
        "colab_type": "text"
      },
      "source": [
        "<a href=\"https://colab.research.google.com/github/mcarbel/mygooglecolabpublic/blob/main/ExcelCompare6.ipynb\" target=\"_parent\"><img src=\"https://colab.research.google.com/assets/colab-badge.svg\" alt=\"Open In Colab\"/></a>"
      ]
    },
    {
      "cell_type": "markdown",
      "metadata": {
        "id": "GJBs_flRovLc"
      },
      "source": [
        "## **Getting started**\n",
        "\n",
        "The document you are reading is not a static web page, but an interactive environment called a **Colab notebook** that lets you write and execute code.\n",
        "\n",
        "For example, here is a **code cell** with a short Python script that computes a value, stores it in a variable, and prints the result:"
      ]
    },
    {
      "cell_type": "markdown",
      "metadata": {
        "id": "SBHrauyJUA-n"
      },
      "source": [
        "# **Parameters Setup**\n",
        "# path to files\n"
      ]
    },
    {
      "cell_type": "code",
      "metadata": {
        "id": "gJr_9dXGpJ05"
      },
      "source": [
        "import pandas as pd\n",
        "from pathlib import Path\n",
        "\n",
        "#define parameters\n",
        "#path to files\n",
        "path_old=Path(r'Quoted_Borrowings_valuation_ASK_30.06.2021_DEV_EOM_20210630_20210713.xlsx', sheet_name = 'Detailed', header = 7 , index_col=2)\n",
        "path_new=Path(r'Quoted_Borrowings_valuation_ASK_30.06.2021_PROD_EOM_20210630_20210713.xlsx', sheet_name = 'Detailed', header = 7, index_col = 2)\n",
        "\n"
      ],
      "execution_count": 29,
      "outputs": []
    },
    {
      "cell_type": "code",
      "metadata": {
        "id": "Odg_RVTSW2d5"
      },
      "source": [
        "#list of key column(s)\n",
        "key=['Instrument']\n",
        "#sheets to read in\n",
        "#sheet='Detailed'"
      ],
      "execution_count": 30,
      "outputs": []
    },
    {
      "cell_type": "code",
      "metadata": {
        "id": "C2_garSkXKyl"
      },
      "source": [
        "# Read in the two excel files and fill NA\n",
        "old = pd.read_excel(path_old).fillna(0)\n",
        "new = pd.read_excel(path_new).fillna(0)\n"
      ],
      "execution_count": 31,
      "outputs": []
    },
    {
      "cell_type": "code",
      "metadata": {
        "id": "LeZIXL8Fe-un",
        "outputId": "c9474d3b-f89b-488d-984a-c2eda5db0b6d",
        "colab": {
          "base_uri": "https://localhost:8080/",
          "height": 1000
        }
      },
      "source": [
        ""
      ],
      "execution_count": 32,
      "outputs": [
        {
          "output_type": "execute_result",
          "data": {
            "text/html": [
              "<div>\n",
              "<style scoped>\n",
              "    .dataframe tbody tr th:only-of-type {\n",
              "        vertical-align: middle;\n",
              "    }\n",
              "\n",
              "    .dataframe tbody tr th {\n",
              "        vertical-align: top;\n",
              "    }\n",
              "\n",
              "    .dataframe thead th {\n",
              "        text-align: right;\n",
              "    }\n",
              "</style>\n",
              "<table border=\"1\" class=\"dataframe\">\n",
              "  <thead>\n",
              "    <tr style=\"text-align: right;\">\n",
              "      <th></th>\n",
              "      <th>Unnamed: 0</th>\n",
              "      <th>Unnamed: 1</th>\n",
              "      <th>Unnamed: 2</th>\n",
              "      <th>Unnamed: 3</th>\n",
              "      <th>Unnamed: 4</th>\n",
              "      <th>Unnamed: 5</th>\n",
              "      <th>Unnamed: 6</th>\n",
              "      <th>Unnamed: 7</th>\n",
              "      <th>Unnamed: 8</th>\n",
              "      <th>Unnamed: 9</th>\n",
              "      <th>Unnamed: 10</th>\n",
              "      <th>Unnamed: 11</th>\n",
              "      <th>Unnamed: 12</th>\n",
              "      <th>Unnamed: 13</th>\n",
              "      <th>Unnamed: 14</th>\n",
              "      <th>Unnamed: 15</th>\n",
              "      <th>Unnamed: 16</th>\n",
              "      <th>Unnamed: 17</th>\n",
              "      <th>Unnamed: 18</th>\n",
              "      <th>Unnamed: 19</th>\n",
              "      <th>Unnamed: 20</th>\n",
              "      <th>Unnamed: 21</th>\n",
              "      <th>Unnamed: 22</th>\n",
              "      <th>Unnamed: 23</th>\n",
              "    </tr>\n",
              "  </thead>\n",
              "  <tbody>\n",
              "    <tr>\n",
              "      <th>0</th>\n",
              "      <td>0.0</td>\n",
              "      <td>Quoted borrowings - Valuation figures</td>\n",
              "      <td>0</td>\n",
              "      <td>0</td>\n",
              "      <td>0</td>\n",
              "      <td>0</td>\n",
              "      <td>0</td>\n",
              "      <td>0</td>\n",
              "      <td>0</td>\n",
              "      <td>0</td>\n",
              "      <td>0</td>\n",
              "      <td>0</td>\n",
              "      <td>0</td>\n",
              "      <td>0</td>\n",
              "      <td>0</td>\n",
              "      <td>0</td>\n",
              "      <td>0</td>\n",
              "      <td>0</td>\n",
              "      <td>0</td>\n",
              "      <td>0</td>\n",
              "      <td>0</td>\n",
              "      <td>0</td>\n",
              "      <td>0</td>\n",
              "      <td>0</td>\n",
              "    </tr>\n",
              "    <tr>\n",
              "      <th>1</th>\n",
              "      <td>0.0</td>\n",
              "      <td>0</td>\n",
              "      <td>0</td>\n",
              "      <td>0</td>\n",
              "      <td>0</td>\n",
              "      <td>0</td>\n",
              "      <td>0</td>\n",
              "      <td>0</td>\n",
              "      <td>0</td>\n",
              "      <td>0</td>\n",
              "      <td>0</td>\n",
              "      <td>0</td>\n",
              "      <td>0</td>\n",
              "      <td>0</td>\n",
              "      <td>0</td>\n",
              "      <td>0</td>\n",
              "      <td>0</td>\n",
              "      <td>0</td>\n",
              "      <td>0</td>\n",
              "      <td>0</td>\n",
              "      <td>0</td>\n",
              "      <td>0</td>\n",
              "      <td>0</td>\n",
              "      <td>0</td>\n",
              "    </tr>\n",
              "    <tr>\n",
              "      <th>2</th>\n",
              "      <td>0.0</td>\n",
              "      <td>Valuation date: 6/30/2021</td>\n",
              "      <td>0</td>\n",
              "      <td>0</td>\n",
              "      <td>0</td>\n",
              "      <td>0</td>\n",
              "      <td>0</td>\n",
              "      <td>0</td>\n",
              "      <td>0</td>\n",
              "      <td>0</td>\n",
              "      <td>0</td>\n",
              "      <td>0</td>\n",
              "      <td>0</td>\n",
              "      <td>0</td>\n",
              "      <td>0</td>\n",
              "      <td>0</td>\n",
              "      <td>0</td>\n",
              "      <td>0</td>\n",
              "      <td>0</td>\n",
              "      <td>0</td>\n",
              "      <td>0</td>\n",
              "      <td>0</td>\n",
              "      <td>0</td>\n",
              "      <td>0</td>\n",
              "    </tr>\n",
              "    <tr>\n",
              "      <th>3</th>\n",
              "      <td>0.0</td>\n",
              "      <td>Last refresh:   7/12/21</td>\n",
              "      <td>0</td>\n",
              "      <td>0</td>\n",
              "      <td>0</td>\n",
              "      <td>0</td>\n",
              "      <td>0</td>\n",
              "      <td>0</td>\n",
              "      <td>0</td>\n",
              "      <td>0</td>\n",
              "      <td>0</td>\n",
              "      <td>0</td>\n",
              "      <td>0</td>\n",
              "      <td>0</td>\n",
              "      <td>0</td>\n",
              "      <td>0</td>\n",
              "      <td>0</td>\n",
              "      <td>0</td>\n",
              "      <td>0</td>\n",
              "      <td>0</td>\n",
              "      <td>0</td>\n",
              "      <td>0</td>\n",
              "      <td>0</td>\n",
              "      <td>0</td>\n",
              "    </tr>\n",
              "    <tr>\n",
              "      <th>4</th>\n",
              "      <td>0.0</td>\n",
              "      <td>0</td>\n",
              "      <td>0</td>\n",
              "      <td>0</td>\n",
              "      <td>0</td>\n",
              "      <td>0</td>\n",
              "      <td>0</td>\n",
              "      <td>0</td>\n",
              "      <td>0</td>\n",
              "      <td>0</td>\n",
              "      <td>0</td>\n",
              "      <td>0</td>\n",
              "      <td>0</td>\n",
              "      <td>0</td>\n",
              "      <td>0</td>\n",
              "      <td>0</td>\n",
              "      <td>0</td>\n",
              "      <td>0</td>\n",
              "      <td>0</td>\n",
              "      <td>0</td>\n",
              "      <td>0</td>\n",
              "      <td>0</td>\n",
              "      <td>0</td>\n",
              "      <td>0</td>\n",
              "    </tr>\n",
              "    <tr>\n",
              "      <th>...</th>\n",
              "      <td>...</td>\n",
              "      <td>...</td>\n",
              "      <td>...</td>\n",
              "      <td>...</td>\n",
              "      <td>...</td>\n",
              "      <td>...</td>\n",
              "      <td>...</td>\n",
              "      <td>...</td>\n",
              "      <td>...</td>\n",
              "      <td>...</td>\n",
              "      <td>...</td>\n",
              "      <td>...</td>\n",
              "      <td>...</td>\n",
              "      <td>...</td>\n",
              "      <td>...</td>\n",
              "      <td>...</td>\n",
              "      <td>...</td>\n",
              "      <td>...</td>\n",
              "      <td>...</td>\n",
              "      <td>...</td>\n",
              "      <td>...</td>\n",
              "      <td>...</td>\n",
              "      <td>...</td>\n",
              "      <td>...</td>\n",
              "    </tr>\n",
              "    <tr>\n",
              "      <th>1105</th>\n",
              "      <td>0.0</td>\n",
              "      <td>0</td>\n",
              "      <td>1465066</td>\n",
              "      <td>21751500</td>\n",
              "      <td>1465066</td>\n",
              "      <td>EIB-FIXED</td>\n",
              "      <td>EUR-NST-2024-09-13-FIXED-0.875</td>\n",
              "      <td>BORR 2175 - FIXED-BULLET</td>\n",
              "      <td>XS1247736793</td>\n",
              "      <td>0</td>\n",
              "      <td>MAMCO</td>\n",
              "      <td>EUR</td>\n",
              "      <td>-250000000</td>\n",
              "      <td>Y</td>\n",
              "      <td>2021-06-24 00:00:00</td>\n",
              "      <td>2021-07-02 00:00:00</td>\n",
              "      <td>2024-09-13 00:00:00</td>\n",
              "      <td>Issue</td>\n",
              "      <td>104.534</td>\n",
              "      <td>0</td>\n",
              "      <td>0</td>\n",
              "      <td>0</td>\n",
              "      <td>-2.61315e+08</td>\n",
              "      <td>-130142</td>\n",
              "    </tr>\n",
              "    <tr>\n",
              "      <th>1106</th>\n",
              "      <td>0.0</td>\n",
              "      <td>0</td>\n",
              "      <td>1465368</td>\n",
              "      <td>23460200</td>\n",
              "      <td>1465368</td>\n",
              "      <td>EIB-FIXED</td>\n",
              "      <td>USD-NST-2025-06-13-FIXED-2.875</td>\n",
              "      <td>BORR 2346  FIXED-BULLET</td>\n",
              "      <td>XS1811852109</td>\n",
              "      <td>0</td>\n",
              "      <td>HEDAC</td>\n",
              "      <td>USD</td>\n",
              "      <td>-200000000</td>\n",
              "      <td>Y</td>\n",
              "      <td>2021-06-25 00:00:00</td>\n",
              "      <td>2021-07-06 00:00:00</td>\n",
              "      <td>2025-06-13 00:00:00</td>\n",
              "      <td>Issue</td>\n",
              "      <td>108.485</td>\n",
              "      <td>0</td>\n",
              "      <td>0</td>\n",
              "      <td>0</td>\n",
              "      <td>-1.82497e+08</td>\n",
              "      <td>-403419</td>\n",
              "    </tr>\n",
              "    <tr>\n",
              "      <th>1107</th>\n",
              "      <td>0.0</td>\n",
              "      <td>0</td>\n",
              "      <td>1465691</td>\n",
              "      <td>24030300</td>\n",
              "      <td>1465691</td>\n",
              "      <td>EIB-FIXED</td>\n",
              "      <td>CAD-NST-2024-07-30-FIXED-1.750</td>\n",
              "      <td>BORR 2403 -  FIXED-BULLET</td>\n",
              "      <td>XS2033281176</td>\n",
              "      <td>0</td>\n",
              "      <td>HEDAC</td>\n",
              "      <td>CAD</td>\n",
              "      <td>-100000000</td>\n",
              "      <td>Y</td>\n",
              "      <td>2021-06-25 00:00:00</td>\n",
              "      <td>2021-07-09 00:00:00</td>\n",
              "      <td>2024-07-30 00:00:00</td>\n",
              "      <td>Issue</td>\n",
              "      <td>102.839</td>\n",
              "      <td>0</td>\n",
              "      <td>0</td>\n",
              "      <td>-4318.28</td>\n",
              "      <td>-6.98452e+07</td>\n",
              "      <td>-36972.2</td>\n",
              "    </tr>\n",
              "    <tr>\n",
              "      <th>1108</th>\n",
              "      <td>0.0</td>\n",
              "      <td>0</td>\n",
              "      <td>1466032</td>\n",
              "      <td>20700700</td>\n",
              "      <td>1466032</td>\n",
              "      <td>EIB-FIXED</td>\n",
              "      <td>AUD-NST-2024-08-07-FIXED-4.75</td>\n",
              "      <td>BORR 2070- FIXED-BULLET-Kangaroo</td>\n",
              "      <td>AU3CB0218444</td>\n",
              "      <td>0</td>\n",
              "      <td>HEDAC</td>\n",
              "      <td>AUD</td>\n",
              "      <td>-200000000</td>\n",
              "      <td>Y</td>\n",
              "      <td>2021-06-29 00:00:00</td>\n",
              "      <td>2021-07-09 00:00:00</td>\n",
              "      <td>2024-08-07 00:00:00</td>\n",
              "      <td>Issue</td>\n",
              "      <td>113.049</td>\n",
              "      <td>0</td>\n",
              "      <td>0</td>\n",
              "      <td>-14578.4</td>\n",
              "      <td>-1.42471e+08</td>\n",
              "      <td>-145709</td>\n",
              "    </tr>\n",
              "    <tr>\n",
              "      <th>1109</th>\n",
              "      <td>0.0</td>\n",
              "      <td>0</td>\n",
              "      <td>1466583</td>\n",
              "      <td>24260200</td>\n",
              "      <td>1466583</td>\n",
              "      <td>EIB-FIXED</td>\n",
              "      <td>CAD-NST-2025-01-22-FIXED-1.900</td>\n",
              "      <td>BORR 2426 -  FIXED-BULLET</td>\n",
              "      <td>US29878TDH41</td>\n",
              "      <td>0</td>\n",
              "      <td>HEDAC</td>\n",
              "      <td>CAD</td>\n",
              "      <td>-600000000</td>\n",
              "      <td>Y</td>\n",
              "      <td>2021-06-29 00:00:00</td>\n",
              "      <td>2021-07-09 00:00:00</td>\n",
              "      <td>2025-01-22 00:00:00</td>\n",
              "      <td>Issue</td>\n",
              "      <td>103.381</td>\n",
              "      <td>0</td>\n",
              "      <td>0</td>\n",
              "      <td>-29537</td>\n",
              "      <td>-4.21276e+08</td>\n",
              "      <td>-823103</td>\n",
              "    </tr>\n",
              "  </tbody>\n",
              "</table>\n",
              "<p>1110 rows × 24 columns</p>\n",
              "</div>"
            ],
            "text/plain": [
              "      Unnamed: 0  ... Unnamed: 23\n",
              "0            0.0  ...           0\n",
              "1            0.0  ...           0\n",
              "2            0.0  ...           0\n",
              "3            0.0  ...           0\n",
              "4            0.0  ...           0\n",
              "...          ...  ...         ...\n",
              "1105         0.0  ...     -130142\n",
              "1106         0.0  ...     -403419\n",
              "1107         0.0  ...    -36972.2\n",
              "1108         0.0  ...     -145709\n",
              "1109         0.0  ...     -823103\n",
              "\n",
              "[1110 rows x 24 columns]"
            ]
          },
          "metadata": {
            "tags": []
          },
          "execution_count": 32
        }
      ]
    },
    {
      "cell_type": "code",
      "metadata": {
        "colab": {
          "base_uri": "https://localhost:8080/",
          "height": 316
        },
        "id": "vMnBCM4HXLAG",
        "outputId": "f8411dac-d852-4223-ef75-beec6be5433d"
      },
      "source": [
        "#set index\n",
        "old=old.set_index(key)\n",
        "new=new.set_index(key)"
      ],
      "execution_count": 33,
      "outputs": [
        {
          "output_type": "error",
          "ename": "KeyError",
          "evalue": "ignored",
          "traceback": [
            "\u001b[0;31m---------------------------------------------------------------------------\u001b[0m",
            "\u001b[0;31mKeyError\u001b[0m                                  Traceback (most recent call last)",
            "\u001b[0;32m<ipython-input-33-f739dbdac6fe>\u001b[0m in \u001b[0;36m<module>\u001b[0;34m()\u001b[0m\n\u001b[1;32m      1\u001b[0m \u001b[0;31m#set index\u001b[0m\u001b[0;34m\u001b[0m\u001b[0;34m\u001b[0m\u001b[0;34m\u001b[0m\u001b[0m\n\u001b[0;32m----> 2\u001b[0;31m \u001b[0mold\u001b[0m\u001b[0;34m=\u001b[0m\u001b[0mold\u001b[0m\u001b[0;34m.\u001b[0m\u001b[0mset_index\u001b[0m\u001b[0;34m(\u001b[0m\u001b[0mkey\u001b[0m\u001b[0;34m)\u001b[0m\u001b[0;34m\u001b[0m\u001b[0;34m\u001b[0m\u001b[0m\n\u001b[0m\u001b[1;32m      3\u001b[0m \u001b[0mnew\u001b[0m\u001b[0;34m=\u001b[0m\u001b[0mnew\u001b[0m\u001b[0;34m.\u001b[0m\u001b[0mset_index\u001b[0m\u001b[0;34m(\u001b[0m\u001b[0mkey\u001b[0m\u001b[0;34m)\u001b[0m\u001b[0;34m\u001b[0m\u001b[0;34m\u001b[0m\u001b[0m\n",
            "\u001b[0;32m/usr/local/lib/python3.7/dist-packages/pandas/core/frame.py\u001b[0m in \u001b[0;36mset_index\u001b[0;34m(self, keys, drop, append, inplace, verify_integrity)\u001b[0m\n\u001b[1;32m   4553\u001b[0m \u001b[0;34m\u001b[0m\u001b[0m\n\u001b[1;32m   4554\u001b[0m         \u001b[0;32mif\u001b[0m \u001b[0mmissing\u001b[0m\u001b[0;34m:\u001b[0m\u001b[0;34m\u001b[0m\u001b[0;34m\u001b[0m\u001b[0m\n\u001b[0;32m-> 4555\u001b[0;31m             \u001b[0;32mraise\u001b[0m \u001b[0mKeyError\u001b[0m\u001b[0;34m(\u001b[0m\u001b[0;34mf\"None of {missing} are in the columns\"\u001b[0m\u001b[0;34m)\u001b[0m\u001b[0;34m\u001b[0m\u001b[0;34m\u001b[0m\u001b[0m\n\u001b[0m\u001b[1;32m   4556\u001b[0m \u001b[0;34m\u001b[0m\u001b[0m\n\u001b[1;32m   4557\u001b[0m         \u001b[0;32mif\u001b[0m \u001b[0minplace\u001b[0m\u001b[0;34m:\u001b[0m\u001b[0;34m\u001b[0m\u001b[0;34m\u001b[0m\u001b[0m\n",
            "\u001b[0;31mKeyError\u001b[0m: \"None of ['Instrument'] are in the columns\""
          ]
        }
      ]
    },
    {
      "cell_type": "code",
      "metadata": {
        "id": "ZGHHw8EgXLLg"
      },
      "source": [
        "#identify dropped rows and added (new) rows\n",
        "dropped_rows = set(old.index) - set(new.index)\n",
        "added_rows = set(new.index) - set(old.index)\n"
      ],
      "execution_count": null,
      "outputs": []
    },
    {
      "cell_type": "code",
      "metadata": {
        "id": "BE6HVfbgXLWM"
      },
      "source": [
        "#combine data\n",
        "df_all_changes = pd.concat([old, new], axis='columns', keys=['old','new'], join='inner')\n",
        "\n",
        "#prepare function for comparing old values and new values\n",
        "def report_diff(x):\n",
        "    return x[0] if x[0] == x[1] else '{} ---> {}'.format(*x)\n",
        "\n",
        "#swap column indexes\n",
        "df_all_changes = df_all_changes.swaplevel(axis='columns')[new.columns[0:]]\n",
        "\n",
        "#apply the report_diff function\n",
        "df_changed = df_all_changes.groupby(level=0, axis=1).apply(lambda frame: frame.apply(report_diff, axis=1))"
      ],
      "execution_count": null,
      "outputs": []
    },
    {
      "cell_type": "code",
      "metadata": {
        "id": "EunTLELfXLix"
      },
      "source": [
        "#create a list of text columns (int columns do not have '{} ---> {}')\n",
        "df_changed_text_columns = df_changed.select_dtypes(include='object')\n"
      ],
      "execution_count": null,
      "outputs": []
    },
    {
      "cell_type": "code",
      "metadata": {
        "id": "Ia-o2ysHW2sM"
      },
      "source": [
        "#create 3 datasets:\n",
        "#diff - contains the differences\n",
        "#dropped - contains the dropped rows\n",
        "#added - contains the added rows\n",
        "diff = df_changed_text_columns[df_changed_text_columns.apply(lambda x: x.str.contains(\"--->\") == True, axis=1)]\n",
        "dropped = old.loc[dropped_rows]\n",
        "added = new.loc[added_rows]\n",
        "\n",
        "\n",
        "#create a name for the output excel file\n",
        "fname =  '{} vs {}.xlsx'.format(path_old.stem, path_new.stem)\n",
        "\n",
        "#write dataframe to excel\n",
        "writer=pd.ExcelWriter(fname, engine='xlsxwriter')\n",
        "diff.to_excel(writer, sheet_name='diff', index=True)\n",
        "dropped.to_excel(writer, sheet_name='dropped', index=True)\n",
        "added.to_excel(writer, sheet_name='added', index=True)"
      ],
      "execution_count": null,
      "outputs": []
    },
    {
      "cell_type": "code",
      "metadata": {
        "id": "W1tBxlxFW25Z"
      },
      "source": [
        "#get xlswriter objects\n",
        "workbook = writer.book\n",
        "worksheet = writer.sheets['diff']\n",
        "worksheet.hide_gridlines(2)\n",
        "worksheet.set_default_row(15)"
      ],
      "execution_count": null,
      "outputs": []
    },
    {
      "cell_type": "code",
      "metadata": {
        "id": "ExbETsF-W3FN"
      },
      "source": [
        "#get number of rows of the df diff\n",
        "row_count_str=str(len(diff.index)+1)"
      ],
      "execution_count": null,
      "outputs": []
    },
    {
      "cell_type": "code",
      "metadata": {
        "id": "sI3yiT9hW3VG"
      },
      "source": [
        "#define and apply formats\n",
        "highligt_fmt = workbook.add_format({'font_color': '#FF0000', 'bg_color':'#B1B3B3'})\n",
        "worksheet.conditional_format('A1:ZZ'+row_count_str, {'type':'text', 'criteria':'containing', 'value':'--->',\n",
        "                            'format':highligt_fmt})\n"
      ],
      "execution_count": null,
      "outputs": []
    },
    {
      "cell_type": "code",
      "metadata": {
        "id": "Pzgi2NVcW3hx"
      },
      "source": [
        "#save the output\n",
        "writer.save()\n",
        "print ('\\nDone.\\n')"
      ],
      "execution_count": null,
      "outputs": []
    }
  ]
}