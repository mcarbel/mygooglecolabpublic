{
  "nbformat": 4,
  "nbformat_minor": 0,
  "metadata": {
    "colab": {
      "name": "Copie de Compare two excel files for difference using Python.ipynb",
      "provenance": [],
      "authorship_tag": "ABX9TyMDdXcAEvTnYLHcKc12Ml6n",
      "include_colab_link": true
    },
    "kernelspec": {
      "name": "python3",
      "display_name": "Python 3"
    },
    "language_info": {
      "name": "python"
    }
  },
  "cells": [
    {
      "cell_type": "markdown",
      "metadata": {
        "id": "view-in-github",
        "colab_type": "text"
      },
      "source": [
        "<a href=\"https://colab.research.google.com/github/mcarbel/mygooglecolabpublic/blob/main/Compare_two_excel_files_for_difference_using_Python.ipynb\" target=\"_parent\"><img src=\"https://colab.research.google.com/assets/colab-badge.svg\" alt=\"Open In Colab\"/></a>"
      ]
    },
    {
      "cell_type": "markdown",
      "metadata": {
        "id": "NuDgbd6Ke1HU"
      },
      "source": [
        "Import\n",
        "\n",
        "First we need to import the two excel files in two separate dataframes"
      ]
    },
    {
      "cell_type": "code",
      "metadata": {
        "id": "9Y981-PEealI"
      },
      "source": [
        "import pandas as pd\n",
        "\n",
        "df1=pd.read_excel('Product_Category_Jan.xlsx')\n",
        "df2=pd.read_excel('Product_Category_Feb.xlsx')\n",
        "\n",
        "\n"
      ],
      "execution_count": null,
      "outputs": []
    },
    {
      "cell_type": "markdown",
      "metadata": {
        "id": "ETVSuTwGfFG2"
      },
      "source": [
        "Next Step\n",
        "\n",
        "Compare the No. of Columns and their types between the two excel files and whether number of rows are equal or not.\n",
        "\n",
        "First,We will Check whether the two dataframes are equal or not using pandas.dataframe.equals , This function allows two Series or DataFrames to be compared against each other to see if they have the same shape and elements. NaNs in the same location are considered equal. The column headers do not need to have the same type, but the elements within the columns must be the same dtype\n",
        "\n",
        "This function requires that the elements have the same dtype as their respective elements in the other Series or DataFrame\n",
        "\n",
        "Basically, it checks for the following three things between two dataframe:\n",
        "\n",
        "a) They have the same types and values for their elements and column labels b) They have the same element types and values, but have different types for the column labels c) They have different types for the same values for their elements"
      ]
    },
    {
      "cell_type": "code",
      "metadata": {
        "id": "w2VxIOXHe4sq"
      },
      "source": [
        "\n",
        "df1.equals(df2)"
      ],
      "execution_count": null,
      "outputs": []
    },
    {
      "cell_type": "markdown",
      "metadata": {
        "id": "5InHxNvofPCg"
      },
      "source": [
        "Compare Two Dataframe Values\n",
        "\n",
        "In the above step we ensure that the shape and type of both the dataframes are equal and now we will compare the values of two dataframes"
      ]
    },
    {
      "cell_type": "code",
      "metadata": {
        "id": "EB7PWo__e9L2"
      },
      "source": [
        "comparison_values = df1.values == df2.values\n",
        "print (comparison_values)"
      ],
      "execution_count": null,
      "outputs": []
    },
    {
      "cell_type": "markdown",
      "metadata": {
        "id": "ru4LKlU7fUO2"
      },
      "source": [
        "In just one line we have compared the values of two dataframes and the comparison value for each row and column is shown as True and False values"
      ]
    },
    {
      "cell_type": "markdown",
      "metadata": {
        "id": "aFPEJ57TfnXq"
      },
      "source": [
        "Index of the Cell with False value\n",
        "\n",
        "Get the Index of all the cells where the value is False, Which means the value of the cell differ between the two dataframes."
      ]
    },
    {
      "cell_type": "code",
      "metadata": {
        "id": "GpILkgMDe_kY"
      },
      "source": [
        "import numpy as np\n",
        "rows,cols=np.where(comparison_values==False)"
      ],
      "execution_count": null,
      "outputs": []
    },
    {
      "cell_type": "markdown",
      "metadata": {
        "id": "bGNHWA1Afw9K"
      },
      "source": [
        "Next we will iterate over these cells and update the first dataframe(df1) value to display the changed value in second dataframe(df2)"
      ]
    },
    {
      "cell_type": "code",
      "metadata": {
        "id": "hwcsZkFUf06H"
      },
      "source": [
        "for item in zip(rows,cols):\n",
        "    df1.iloc[item[0], item[1]] = '{} --> {}'.format(df1.iloc[item[0], item[1]],df2.iloc[item[0], item[1]])"
      ],
      "execution_count": null,
      "outputs": []
    },
    {
      "cell_type": "markdown",
      "metadata": {
        "id": "vF8La0zqf5RK"
      },
      "source": [
        "\n",
        "\n",
        "So wherever there was a false value in the Comparison_value ndarray in the above step that has been replaced with the old and new value. Now you can export this dataframe into an excel or csv file and name it as Excel_diff.\n",
        "\n",
        "I have set the index parameter as false otherwise the index will also be exported in the xlsx file as the first column and I have set the headers as True so that by default the dataframe headers will be the header in excel file as well."
      ]
    },
    {
      "cell_type": "code",
      "metadata": {
        "id": "LsTs4yNSgBbi"
      },
      "source": [
        "df1.to_excel('./Excel_diff.xlsx',index=False,header=True)"
      ],
      "execution_count": null,
      "outputs": []
    }
  ]
}