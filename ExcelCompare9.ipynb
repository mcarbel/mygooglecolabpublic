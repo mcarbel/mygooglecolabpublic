{
  "nbformat": 4,
  "nbformat_minor": 0,
  "metadata": {
    "colab": {
      "name": "Welcome To Colaboratory",
      "provenance": [],
      "collapsed_sections": [],
      "include_colab_link": true
    },
    "kernelspec": {
      "display_name": "Python 3",
      "name": "python3"
    }
  },
  "cells": [
    {
      "cell_type": "markdown",
      "metadata": {
        "id": "view-in-github",
        "colab_type": "text"
      },
      "source": [
        "<a href=\"https://colab.research.google.com/github/mcarbel/mygooglecolabpublic/blob/main/ExcelCompare9.ipynb\" target=\"_parent\"><img src=\"https://colab.research.google.com/assets/colab-badge.svg\" alt=\"Open In Colab\"/></a>"
      ]
    },
    {
      "cell_type": "markdown",
      "metadata": {
        "id": "GJBs_flRovLc"
      },
      "source": [
        "## **Getting started**\n",
        "\n",
        "The document you are reading is not a static web page, but an interactive environment called a **Colab notebook** that lets you write and execute code.\n",
        "\n",
        "For example, here is a **code cell** with a short Python script that computes a value, stores it in a variable, and prints the result:"
      ]
    },
    {
      "cell_type": "markdown",
      "metadata": {
        "id": "SBHrauyJUA-n"
      },
      "source": [
        "# **Parameters Setup**\n",
        "# path to files\n"
      ]
    },
    {
      "cell_type": "code",
      "metadata": {
        "id": "gJr_9dXGpJ05"
      },
      "source": [
        "import pandas as pd\n",
        "from pathlib import Path\n",
        "\n",
        "#define parameters\n",
        "#path to files\n",
        "path_old=Path(r'Quoted_Borrowings_valuation_ASK_30.06.2021_DEV_EOM_20210630_20210713_Copy.xlsx', sheet_name = 'Detailed', header = 0 , index_col=0)\n",
        "path_new=Path(r'Quoted_Borrowings_valuation_ASK_30.06.2021_PROD_EOM_20210630_20210713_Copy.xlsx', sheet_name = 'Detailed', header = 0, index_col = 0)\n",
        "\n"
      ],
      "execution_count": 8,
      "outputs": []
    },
    {
      "cell_type": "markdown",
      "metadata": {
        "id": "ZNFWCP-Gm8bV"
      },
      "source": [
        "# **Define Index**"
      ]
    },
    {
      "cell_type": "code",
      "metadata": {
        "id": "Odg_RVTSW2d5"
      },
      "source": [
        "#list of key column(s)\n",
        "key=['Instrument','ISIN','Trn']\n",
        "#sheets to read in\n",
        "#sheet='Detailed'"
      ],
      "execution_count": 35,
      "outputs": []
    },
    {
      "cell_type": "code",
      "metadata": {
        "id": "C2_garSkXKyl"
      },
      "source": [
        "# Read in the two excel files and fill NA\n",
        "old = pd.read_excel(path_old).fillna(0)\n",
        "new = pd.read_excel(path_new).fillna(0)\n"
      ],
      "execution_count": 69,
      "outputs": []
    },
    {
      "cell_type": "code",
      "metadata": {
        "id": "vMnBCM4HXLAG"
      },
      "source": [
        "#set index\n",
        "old=old.set_index(key)\n",
        "new=new.set_index(key)"
      ],
      "execution_count": 70,
      "outputs": []
    },
    {
      "cell_type": "code",
      "metadata": {
        "id": "ERfbOhUEkuni"
      },
      "source": [
        "old=\"\""
      ],
      "execution_count": 63,
      "outputs": []
    },
    {
      "cell_type": "code",
      "metadata": {
        "id": "EXOfvEs3kynj"
      },
      "source": [
        "new=\"\""
      ],
      "execution_count": 64,
      "outputs": []
    },
    {
      "cell_type": "markdown",
      "metadata": {
        "id": "KhD8sjVGnFfg"
      },
      "source": [
        "# **Dropped/Added Rows Dataframe**"
      ]
    },
    {
      "cell_type": "code",
      "metadata": {
        "id": "ZGHHw8EgXLLg"
      },
      "source": [
        "#identify dropped rows and added (new) rows\n",
        "dropped_rows = set(old.index) - set(new.index)\n",
        "added_rows = set(new.index) - set(old.index)\n"
      ],
      "execution_count": 71,
      "outputs": []
    },
    {
      "cell_type": "code",
      "metadata": {
        "colab": {
          "base_uri": "https://localhost:8080/"
        },
        "id": "gdCOSbglh3vU",
        "outputId": "384fadab-02b9-40d1-b424-e5faa4c2eb77"
      },
      "source": [
        "dropped_rows"
      ],
      "execution_count": 72,
      "outputs": [
        {
          "output_type": "execute_result",
          "data": {
            "text/plain": [
              "set()"
            ]
          },
          "metadata": {
            "tags": []
          },
          "execution_count": 72
        }
      ]
    },
    {
      "cell_type": "code",
      "metadata": {
        "colab": {
          "base_uri": "https://localhost:8080/"
        },
        "id": "UDm5vgXxh6Gz",
        "outputId": "29ae75e2-f485-4aa4-8a6e-5e829237e231"
      },
      "source": [
        "added_rows"
      ],
      "execution_count": 73,
      "outputs": [
        {
          "output_type": "execute_result",
          "data": {
            "text/plain": [
              "set()"
            ]
          },
          "metadata": {
            "tags": []
          },
          "execution_count": 73
        }
      ]
    },
    {
      "cell_type": "code",
      "metadata": {
        "colab": {
          "base_uri": "https://localhost:8080/",
          "height": 1000
        },
        "id": "hPOelDX3h8H8",
        "outputId": "4a4e635a-4fe6-46ae-d9b4-8d717acb6f41"
      },
      "source": [
        "old"
      ],
      "execution_count": 74,
      "outputs": [
        {
          "output_type": "execute_result",
          "data": {
            "text/html": [
              "<div>\n",
              "<style scoped>\n",
              "    .dataframe tbody tr th:only-of-type {\n",
              "        vertical-align: middle;\n",
              "    }\n",
              "\n",
              "    .dataframe tbody tr th {\n",
              "        vertical-align: top;\n",
              "    }\n",
              "\n",
              "    .dataframe thead th {\n",
              "        text-align: right;\n",
              "    }\n",
              "</style>\n",
              "<table border=\"1\" class=\"dataframe\">\n",
              "  <thead>\n",
              "    <tr style=\"text-align: right;\">\n",
              "      <th></th>\n",
              "      <th></th>\n",
              "      <th></th>\n",
              "      <th>Parent Number</th>\n",
              "      <th>Borr</th>\n",
              "      <th>Instrument Group</th>\n",
              "      <th>Instrument Name</th>\n",
              "      <th>Designation IFRS</th>\n",
              "      <th>IFRS9 Accounting Category Name</th>\n",
              "      <th>Ccy</th>\n",
              "      <th>Trn Nominal Amount</th>\n",
              "      <th>Is Quoted (Valuation date)</th>\n",
              "      <th>Trade date</th>\n",
              "      <th>Value date</th>\n",
              "      <th>Maturity date</th>\n",
              "      <th>Sign</th>\n",
              "      <th>Ask Price</th>\n",
              "      <th>Final ZC Repayment (local)</th>\n",
              "      <th>Final ZC Repayment (EUR)</th>\n",
              "      <th>Trn Figure Accrued Interest (hist)</th>\n",
              "      <th>Trn Figure Clean Market Value (hist)</th>\n",
              "      <th>Trn Figure Market Value (hist)</th>\n",
              "    </tr>\n",
              "    <tr>\n",
              "      <th>Instrument</th>\n",
              "      <th>ISIN</th>\n",
              "      <th>Trn</th>\n",
              "      <th></th>\n",
              "      <th></th>\n",
              "      <th></th>\n",
              "      <th></th>\n",
              "      <th></th>\n",
              "      <th></th>\n",
              "      <th></th>\n",
              "      <th></th>\n",
              "      <th></th>\n",
              "      <th></th>\n",
              "      <th></th>\n",
              "      <th></th>\n",
              "      <th></th>\n",
              "      <th></th>\n",
              "      <th></th>\n",
              "      <th></th>\n",
              "      <th></th>\n",
              "      <th></th>\n",
              "      <th></th>\n",
              "    </tr>\n",
              "  </thead>\n",
              "  <tbody>\n",
              "    <tr>\n",
              "      <th>GBP-STR-2030-07-22-INFLATION</th>\n",
              "      <th>XS0132108704</th>\n",
              "      <th>169844</th>\n",
              "      <td>169844</td>\n",
              "      <td>2280200</td>\n",
              "      <td>EIB-INFLATION-LINKED</td>\n",
              "      <td>BORR 0228 - 1565/01 - inflation linked - UK-RPI</td>\n",
              "      <td>FVOPL</td>\n",
              "      <td>FVOPL</td>\n",
              "      <td>GBP</td>\n",
              "      <td>-75000000.0</td>\n",
              "      <td>Y</td>\n",
              "      <td>2004-05-12</td>\n",
              "      <td>2004-06-04</td>\n",
              "      <td>2030-07-22</td>\n",
              "      <td>Issue</td>\n",
              "      <td>257.661</td>\n",
              "      <td>0.000000e+00</td>\n",
              "      <td>0.000000e+00</td>\n",
              "      <td>-5.841709e+07</td>\n",
              "      <td>-2.258749e+08</td>\n",
              "      <td>-2.267860e+08</td>\n",
              "    </tr>\n",
              "    <tr>\n",
              "      <th>EUR-NST-2026-11-05-ZERO-B</th>\n",
              "      <th>DE0001345908</th>\n",
              "      <th>171091</th>\n",
              "      <td>171091</td>\n",
              "      <td>720200</td>\n",
              "      <td>EIB-ZERO-COUPON</td>\n",
              "      <td>BORR 0072 - 1418/01 - Zero-coupon, DEM Converted</td>\n",
              "      <td>FVOPL</td>\n",
              "      <td>HEDAC</td>\n",
              "      <td>EUR</td>\n",
              "      <td>-35279139.8</td>\n",
              "      <td>Y</td>\n",
              "      <td>1997-01-07</td>\n",
              "      <td>2005-01-01</td>\n",
              "      <td>2026-11-05</td>\n",
              "      <td>Issue</td>\n",
              "      <td>101.529</td>\n",
              "      <td>-2.556459e+08</td>\n",
              "      <td>-2.556459e+08</td>\n",
              "      <td>-1.194300e+08</td>\n",
              "      <td>-2.595556e+08</td>\n",
              "      <td>-2.595556e+08</td>\n",
              "    </tr>\n",
              "    <tr>\n",
              "      <th>GBP-STR-2034-03-31-INFLATION</th>\n",
              "      <th>XS0129477047</th>\n",
              "      <th>171252</th>\n",
              "      <td>171252</td>\n",
              "      <td>2240100</td>\n",
              "      <td>EIB-INFLATION-LINKED</td>\n",
              "      <td>BORR 0224 - DEAL 68 - 1563/01 - inflation link...</td>\n",
              "      <td>MAMCO</td>\n",
              "      <td>MAMCO</td>\n",
              "      <td>GBP</td>\n",
              "      <td>-70000000.0</td>\n",
              "      <td>Y</td>\n",
              "      <td>2001-05-08</td>\n",
              "      <td>2001-05-17</td>\n",
              "      <td>2034-03-31</td>\n",
              "      <td>Issue</td>\n",
              "      <td>245.615</td>\n",
              "      <td>0.000000e+00</td>\n",
              "      <td>0.000000e+00</td>\n",
              "      <td>-6.583542e+07</td>\n",
              "      <td>-1.096807e+08</td>\n",
              "      <td>-1.102429e+08</td>\n",
              "    </tr>\n",
              "    <tr>\n",
              "      <th>GBP-STR-2034-09-30-INFLATION</th>\n",
              "      <th>XS0184056520</th>\n",
              "      <th>171568</th>\n",
              "      <td>171568</td>\n",
              "      <td>6470100</td>\n",
              "      <td>EIB-INFLATION-LINKED</td>\n",
              "      <td>BORR 0647 - 1609/01 - inflation linked UK-RPI,...</td>\n",
              "      <td>MAMCO</td>\n",
              "      <td>MAMCO</td>\n",
              "      <td>GBP</td>\n",
              "      <td>-100000000.0</td>\n",
              "      <td>Y</td>\n",
              "      <td>2004-01-09</td>\n",
              "      <td>2004-01-15</td>\n",
              "      <td>2034-09-30</td>\n",
              "      <td>Issue</td>\n",
              "      <td>225.196</td>\n",
              "      <td>0.000000e+00</td>\n",
              "      <td>0.000000e+00</td>\n",
              "      <td>-5.571730e+07</td>\n",
              "      <td>-1.493109e+08</td>\n",
              "      <td>-1.499257e+08</td>\n",
              "    </tr>\n",
              "    <tr>\n",
              "      <th>GBP-STR-2038-03-31-INFLATION</th>\n",
              "      <th>XS0172367921</th>\n",
              "      <th>171569</th>\n",
              "      <td>171569</td>\n",
              "      <td>5380100</td>\n",
              "      <td>EIB-INFLATION-LINKED</td>\n",
              "      <td>BORR 0538 - 1599/01 - inflation linked UK-RPI,...</td>\n",
              "      <td>MAMCO</td>\n",
              "      <td>MAMCO</td>\n",
              "      <td>GBP</td>\n",
              "      <td>-50000000.0</td>\n",
              "      <td>Y</td>\n",
              "      <td>2003-07-02</td>\n",
              "      <td>2003-07-09</td>\n",
              "      <td>2038-03-31</td>\n",
              "      <td>Issue</td>\n",
              "      <td>246.774</td>\n",
              "      <td>0.000000e+00</td>\n",
              "      <td>0.000000e+00</td>\n",
              "      <td>-2.958682e+07</td>\n",
              "      <td>-9.008768e+07</td>\n",
              "      <td>-9.042917e+07</td>\n",
              "    </tr>\n",
              "    <tr>\n",
              "      <th>...</th>\n",
              "      <th>...</th>\n",
              "      <th>...</th>\n",
              "      <td>...</td>\n",
              "      <td>...</td>\n",
              "      <td>...</td>\n",
              "      <td>...</td>\n",
              "      <td>...</td>\n",
              "      <td>...</td>\n",
              "      <td>...</td>\n",
              "      <td>...</td>\n",
              "      <td>...</td>\n",
              "      <td>...</td>\n",
              "      <td>...</td>\n",
              "      <td>...</td>\n",
              "      <td>...</td>\n",
              "      <td>...</td>\n",
              "      <td>...</td>\n",
              "      <td>...</td>\n",
              "      <td>...</td>\n",
              "      <td>...</td>\n",
              "      <td>...</td>\n",
              "    </tr>\n",
              "    <tr>\n",
              "      <th>EUR-NST-2024-09-13-FIXED-0.875</th>\n",
              "      <th>XS1247736793</th>\n",
              "      <th>1465066</th>\n",
              "      <td>1465066</td>\n",
              "      <td>21751500</td>\n",
              "      <td>EIB-FIXED</td>\n",
              "      <td>BORR 2175 - FIXED-BULLET</td>\n",
              "      <td>0</td>\n",
              "      <td>MAMCO</td>\n",
              "      <td>EUR</td>\n",
              "      <td>-250000000.0</td>\n",
              "      <td>Y</td>\n",
              "      <td>2021-06-24</td>\n",
              "      <td>2021-07-02</td>\n",
              "      <td>2024-09-13</td>\n",
              "      <td>Issue</td>\n",
              "      <td>104.534</td>\n",
              "      <td>0.000000e+00</td>\n",
              "      <td>0.000000e+00</td>\n",
              "      <td>0.000000e+00</td>\n",
              "      <td>-2.613151e+08</td>\n",
              "      <td>-1.301417e+05</td>\n",
              "    </tr>\n",
              "    <tr>\n",
              "      <th>USD-NST-2025-06-13-FIXED-2.875</th>\n",
              "      <th>XS1811852109</th>\n",
              "      <th>1465368</th>\n",
              "      <td>1465368</td>\n",
              "      <td>23460200</td>\n",
              "      <td>EIB-FIXED</td>\n",
              "      <td>BORR 2346  FIXED-BULLET</td>\n",
              "      <td>0</td>\n",
              "      <td>HEDAC</td>\n",
              "      <td>USD</td>\n",
              "      <td>-200000000.0</td>\n",
              "      <td>Y</td>\n",
              "      <td>2021-06-25</td>\n",
              "      <td>2021-07-06</td>\n",
              "      <td>2025-06-13</td>\n",
              "      <td>Issue</td>\n",
              "      <td>108.485</td>\n",
              "      <td>0.000000e+00</td>\n",
              "      <td>0.000000e+00</td>\n",
              "      <td>0.000000e+00</td>\n",
              "      <td>-1.824970e+08</td>\n",
              "      <td>-4.034189e+05</td>\n",
              "    </tr>\n",
              "    <tr>\n",
              "      <th>CAD-NST-2024-07-30-FIXED-1.750</th>\n",
              "      <th>XS2033281176</th>\n",
              "      <th>1465691</th>\n",
              "      <td>1465691</td>\n",
              "      <td>24030300</td>\n",
              "      <td>EIB-FIXED</td>\n",
              "      <td>BORR 2403 -  FIXED-BULLET</td>\n",
              "      <td>0</td>\n",
              "      <td>HEDAC</td>\n",
              "      <td>CAD</td>\n",
              "      <td>-100000000.0</td>\n",
              "      <td>Y</td>\n",
              "      <td>2021-06-25</td>\n",
              "      <td>2021-07-09</td>\n",
              "      <td>2024-07-30</td>\n",
              "      <td>Issue</td>\n",
              "      <td>102.839</td>\n",
              "      <td>0.000000e+00</td>\n",
              "      <td>0.000000e+00</td>\n",
              "      <td>-4.318280e+03</td>\n",
              "      <td>-6.984518e+07</td>\n",
              "      <td>-3.697215e+04</td>\n",
              "    </tr>\n",
              "    <tr>\n",
              "      <th>AUD-NST-2024-08-07-FIXED-4.75</th>\n",
              "      <th>AU3CB0218444</th>\n",
              "      <th>1466032</th>\n",
              "      <td>1466032</td>\n",
              "      <td>20700700</td>\n",
              "      <td>EIB-FIXED</td>\n",
              "      <td>BORR 2070- FIXED-BULLET-Kangaroo</td>\n",
              "      <td>0</td>\n",
              "      <td>HEDAC</td>\n",
              "      <td>AUD</td>\n",
              "      <td>-200000000.0</td>\n",
              "      <td>Y</td>\n",
              "      <td>2021-06-29</td>\n",
              "      <td>2021-07-09</td>\n",
              "      <td>2024-08-07</td>\n",
              "      <td>Issue</td>\n",
              "      <td>113.049</td>\n",
              "      <td>0.000000e+00</td>\n",
              "      <td>0.000000e+00</td>\n",
              "      <td>-1.457838e+04</td>\n",
              "      <td>-1.424714e+08</td>\n",
              "      <td>-1.457093e+05</td>\n",
              "    </tr>\n",
              "    <tr>\n",
              "      <th>CAD-NST-2025-01-22-FIXED-1.900</th>\n",
              "      <th>US29878TDH41</th>\n",
              "      <th>1466583</th>\n",
              "      <td>1466583</td>\n",
              "      <td>24260200</td>\n",
              "      <td>EIB-FIXED</td>\n",
              "      <td>BORR 2426 -  FIXED-BULLET</td>\n",
              "      <td>0</td>\n",
              "      <td>HEDAC</td>\n",
              "      <td>CAD</td>\n",
              "      <td>-600000000.0</td>\n",
              "      <td>Y</td>\n",
              "      <td>2021-06-29</td>\n",
              "      <td>2021-07-09</td>\n",
              "      <td>2025-01-22</td>\n",
              "      <td>Issue</td>\n",
              "      <td>103.381</td>\n",
              "      <td>0.000000e+00</td>\n",
              "      <td>0.000000e+00</td>\n",
              "      <td>-2.953705e+04</td>\n",
              "      <td>-4.212755e+08</td>\n",
              "      <td>-8.231032e+05</td>\n",
              "    </tr>\n",
              "  </tbody>\n",
              "</table>\n",
              "<p>1104 rows × 19 columns</p>\n",
              "</div>"
            ],
            "text/plain": [
              "                                                     Parent Number  ...  Trn Figure Market Value (hist)\n",
              "Instrument                     ISIN         Trn                     ...                                \n",
              "GBP-STR-2030-07-22-INFLATION   XS0132108704 169844          169844  ...                   -2.267860e+08\n",
              "EUR-NST-2026-11-05-ZERO-B      DE0001345908 171091          171091  ...                   -2.595556e+08\n",
              "GBP-STR-2034-03-31-INFLATION   XS0129477047 171252          171252  ...                   -1.102429e+08\n",
              "GBP-STR-2034-09-30-INFLATION   XS0184056520 171568          171568  ...                   -1.499257e+08\n",
              "GBP-STR-2038-03-31-INFLATION   XS0172367921 171569          171569  ...                   -9.042917e+07\n",
              "...                                                            ...  ...                             ...\n",
              "EUR-NST-2024-09-13-FIXED-0.875 XS1247736793 1465066        1465066  ...                   -1.301417e+05\n",
              "USD-NST-2025-06-13-FIXED-2.875 XS1811852109 1465368        1465368  ...                   -4.034189e+05\n",
              "CAD-NST-2024-07-30-FIXED-1.750 XS2033281176 1465691        1465691  ...                   -3.697215e+04\n",
              "AUD-NST-2024-08-07-FIXED-4.75  AU3CB0218444 1466032        1466032  ...                   -1.457093e+05\n",
              "CAD-NST-2025-01-22-FIXED-1.900 US29878TDH41 1466583        1466583  ...                   -8.231032e+05\n",
              "\n",
              "[1104 rows x 19 columns]"
            ]
          },
          "metadata": {
            "tags": []
          },
          "execution_count": 74
        }
      ]
    },
    {
      "cell_type": "code",
      "metadata": {
        "colab": {
          "base_uri": "https://localhost:8080/",
          "height": 1000
        },
        "id": "HDIjJ3MsiRM7",
        "outputId": "0c029bf7-2b1c-49e8-88d8-e2df1751fc2a"
      },
      "source": [
        "new"
      ],
      "execution_count": 75,
      "outputs": [
        {
          "output_type": "execute_result",
          "data": {
            "text/html": [
              "<div>\n",
              "<style scoped>\n",
              "    .dataframe tbody tr th:only-of-type {\n",
              "        vertical-align: middle;\n",
              "    }\n",
              "\n",
              "    .dataframe tbody tr th {\n",
              "        vertical-align: top;\n",
              "    }\n",
              "\n",
              "    .dataframe thead th {\n",
              "        text-align: right;\n",
              "    }\n",
              "</style>\n",
              "<table border=\"1\" class=\"dataframe\">\n",
              "  <thead>\n",
              "    <tr style=\"text-align: right;\">\n",
              "      <th></th>\n",
              "      <th></th>\n",
              "      <th></th>\n",
              "      <th>Parent Number</th>\n",
              "      <th>Borr</th>\n",
              "      <th>Instrument Group</th>\n",
              "      <th>Instrument Name</th>\n",
              "      <th>Designation IFRS</th>\n",
              "      <th>IFRS9 Accounting Category Name</th>\n",
              "      <th>Ccy</th>\n",
              "      <th>Trn Nominal Amount</th>\n",
              "      <th>Is Quoted (Valuation date)</th>\n",
              "      <th>Trade date</th>\n",
              "      <th>Value date</th>\n",
              "      <th>Maturity date</th>\n",
              "      <th>Sign</th>\n",
              "      <th>Ask Price</th>\n",
              "      <th>Final ZC Repayment (local)</th>\n",
              "      <th>Final ZC Repayment (EUR)</th>\n",
              "      <th>Trn Figure Accrued Interest (hist)</th>\n",
              "      <th>Trn Figure Clean Market Value (hist)</th>\n",
              "      <th>Trn Figure Market Value (hist)</th>\n",
              "    </tr>\n",
              "    <tr>\n",
              "      <th>Instrument</th>\n",
              "      <th>ISIN</th>\n",
              "      <th>Trn</th>\n",
              "      <th></th>\n",
              "      <th></th>\n",
              "      <th></th>\n",
              "      <th></th>\n",
              "      <th></th>\n",
              "      <th></th>\n",
              "      <th></th>\n",
              "      <th></th>\n",
              "      <th></th>\n",
              "      <th></th>\n",
              "      <th></th>\n",
              "      <th></th>\n",
              "      <th></th>\n",
              "      <th></th>\n",
              "      <th></th>\n",
              "      <th></th>\n",
              "      <th></th>\n",
              "      <th></th>\n",
              "      <th></th>\n",
              "    </tr>\n",
              "  </thead>\n",
              "  <tbody>\n",
              "    <tr>\n",
              "      <th>GBP-STR-2030-07-22-INFLATION</th>\n",
              "      <th>XS0132108704</th>\n",
              "      <th>169844</th>\n",
              "      <td>169844</td>\n",
              "      <td>2280200</td>\n",
              "      <td>EIB-INFLATION-LINKED</td>\n",
              "      <td>BORR 0228 - 1565/01 - inflation linked - UK-RPI</td>\n",
              "      <td>FVOPL</td>\n",
              "      <td>FVOPL</td>\n",
              "      <td>GBP</td>\n",
              "      <td>-75000000.0</td>\n",
              "      <td>Y</td>\n",
              "      <td>2004-05-12</td>\n",
              "      <td>2004-06-04</td>\n",
              "      <td>2030-07-22</td>\n",
              "      <td>Issue</td>\n",
              "      <td>257.661</td>\n",
              "      <td>0.000000e+00</td>\n",
              "      <td>0.000000e+00</td>\n",
              "      <td>-5.841709e+07</td>\n",
              "      <td>-2.258749e+08</td>\n",
              "      <td>-2.267860e+08</td>\n",
              "    </tr>\n",
              "    <tr>\n",
              "      <th>EUR-NST-2026-11-05-ZERO-B</th>\n",
              "      <th>DE0001345908</th>\n",
              "      <th>171091</th>\n",
              "      <td>171091</td>\n",
              "      <td>720200</td>\n",
              "      <td>EIB-ZERO-COUPON</td>\n",
              "      <td>BORR 0072 - 1418/01 - Zero-coupon, DEM Converted</td>\n",
              "      <td>FVOPL</td>\n",
              "      <td>HEDAC</td>\n",
              "      <td>EUR</td>\n",
              "      <td>-35279139.8</td>\n",
              "      <td>Y</td>\n",
              "      <td>1997-01-07</td>\n",
              "      <td>2005-01-01</td>\n",
              "      <td>2026-11-05</td>\n",
              "      <td>Issue</td>\n",
              "      <td>101.529</td>\n",
              "      <td>-2.556459e+08</td>\n",
              "      <td>-2.556459e+08</td>\n",
              "      <td>-1.194300e+08</td>\n",
              "      <td>-2.595556e+08</td>\n",
              "      <td>-2.595556e+08</td>\n",
              "    </tr>\n",
              "    <tr>\n",
              "      <th>GBP-STR-2034-03-31-INFLATION</th>\n",
              "      <th>XS0129477047</th>\n",
              "      <th>171252</th>\n",
              "      <td>171252</td>\n",
              "      <td>2240100</td>\n",
              "      <td>EIB-INFLATION-LINKED</td>\n",
              "      <td>BORR 0224 - DEAL 68 - 1563/01 - inflation link...</td>\n",
              "      <td>MAMCO</td>\n",
              "      <td>MAMCO</td>\n",
              "      <td>GBP</td>\n",
              "      <td>-70000000.0</td>\n",
              "      <td>Y</td>\n",
              "      <td>2001-05-08</td>\n",
              "      <td>2001-05-17</td>\n",
              "      <td>2034-03-31</td>\n",
              "      <td>Issue</td>\n",
              "      <td>245.615</td>\n",
              "      <td>0.000000e+00</td>\n",
              "      <td>0.000000e+00</td>\n",
              "      <td>-6.583542e+07</td>\n",
              "      <td>-1.096807e+08</td>\n",
              "      <td>-1.102429e+08</td>\n",
              "    </tr>\n",
              "    <tr>\n",
              "      <th>GBP-STR-2034-09-30-INFLATION</th>\n",
              "      <th>XS0184056520</th>\n",
              "      <th>171568</th>\n",
              "      <td>171568</td>\n",
              "      <td>6470100</td>\n",
              "      <td>EIB-INFLATION-LINKED</td>\n",
              "      <td>BORR 0647 - 1609/01 - inflation linked UK-RPI,...</td>\n",
              "      <td>MAMCO</td>\n",
              "      <td>MAMCO</td>\n",
              "      <td>GBP</td>\n",
              "      <td>-100000000.0</td>\n",
              "      <td>Y</td>\n",
              "      <td>2004-01-09</td>\n",
              "      <td>2004-01-15</td>\n",
              "      <td>2034-09-30</td>\n",
              "      <td>Issue</td>\n",
              "      <td>225.196</td>\n",
              "      <td>0.000000e+00</td>\n",
              "      <td>0.000000e+00</td>\n",
              "      <td>-5.571730e+07</td>\n",
              "      <td>-1.493109e+08</td>\n",
              "      <td>-1.499257e+08</td>\n",
              "    </tr>\n",
              "    <tr>\n",
              "      <th>GBP-STR-2038-03-31-INFLATION</th>\n",
              "      <th>XS0172367921</th>\n",
              "      <th>171569</th>\n",
              "      <td>171569</td>\n",
              "      <td>5380100</td>\n",
              "      <td>EIB-INFLATION-LINKED</td>\n",
              "      <td>BORR 0538 - 1599/01 - inflation linked UK-RPI,...</td>\n",
              "      <td>MAMCO</td>\n",
              "      <td>MAMCO</td>\n",
              "      <td>GBP</td>\n",
              "      <td>-50000000.0</td>\n",
              "      <td>Y</td>\n",
              "      <td>2003-07-02</td>\n",
              "      <td>2003-07-09</td>\n",
              "      <td>2038-03-31</td>\n",
              "      <td>Issue</td>\n",
              "      <td>246.774</td>\n",
              "      <td>0.000000e+00</td>\n",
              "      <td>0.000000e+00</td>\n",
              "      <td>-2.958682e+07</td>\n",
              "      <td>-9.008768e+07</td>\n",
              "      <td>-9.042917e+07</td>\n",
              "    </tr>\n",
              "    <tr>\n",
              "      <th>...</th>\n",
              "      <th>...</th>\n",
              "      <th>...</th>\n",
              "      <td>...</td>\n",
              "      <td>...</td>\n",
              "      <td>...</td>\n",
              "      <td>...</td>\n",
              "      <td>...</td>\n",
              "      <td>...</td>\n",
              "      <td>...</td>\n",
              "      <td>...</td>\n",
              "      <td>...</td>\n",
              "      <td>...</td>\n",
              "      <td>...</td>\n",
              "      <td>...</td>\n",
              "      <td>...</td>\n",
              "      <td>...</td>\n",
              "      <td>...</td>\n",
              "      <td>...</td>\n",
              "      <td>...</td>\n",
              "      <td>...</td>\n",
              "      <td>...</td>\n",
              "    </tr>\n",
              "    <tr>\n",
              "      <th>EUR-NST-2024-09-13-FIXED-0.875</th>\n",
              "      <th>XS1247736793</th>\n",
              "      <th>1465066</th>\n",
              "      <td>1465066</td>\n",
              "      <td>21751500</td>\n",
              "      <td>EIB-FIXED</td>\n",
              "      <td>BORR 2175 - FIXED-BULLET</td>\n",
              "      <td>0</td>\n",
              "      <td>MAMCO</td>\n",
              "      <td>EUR</td>\n",
              "      <td>-250000000.0</td>\n",
              "      <td>Y</td>\n",
              "      <td>2021-06-24</td>\n",
              "      <td>2021-07-02</td>\n",
              "      <td>2024-09-13</td>\n",
              "      <td>Issue</td>\n",
              "      <td>104.534</td>\n",
              "      <td>0.000000e+00</td>\n",
              "      <td>0.000000e+00</td>\n",
              "      <td>0.000000e+00</td>\n",
              "      <td>-2.613151e+08</td>\n",
              "      <td>-1.301417e+05</td>\n",
              "    </tr>\n",
              "    <tr>\n",
              "      <th>USD-NST-2025-06-13-FIXED-2.875</th>\n",
              "      <th>XS1811852109</th>\n",
              "      <th>1465368</th>\n",
              "      <td>1465368</td>\n",
              "      <td>23460200</td>\n",
              "      <td>EIB-FIXED</td>\n",
              "      <td>BORR 2346  FIXED-BULLET</td>\n",
              "      <td>0</td>\n",
              "      <td>HEDAC</td>\n",
              "      <td>USD</td>\n",
              "      <td>-200000000.0</td>\n",
              "      <td>Y</td>\n",
              "      <td>2021-06-25</td>\n",
              "      <td>2021-07-06</td>\n",
              "      <td>2025-06-13</td>\n",
              "      <td>Issue</td>\n",
              "      <td>108.485</td>\n",
              "      <td>0.000000e+00</td>\n",
              "      <td>0.000000e+00</td>\n",
              "      <td>0.000000e+00</td>\n",
              "      <td>-1.824970e+08</td>\n",
              "      <td>-4.034189e+05</td>\n",
              "    </tr>\n",
              "    <tr>\n",
              "      <th>CAD-NST-2024-07-30-FIXED-1.750</th>\n",
              "      <th>XS2033281176</th>\n",
              "      <th>1465691</th>\n",
              "      <td>1465691</td>\n",
              "      <td>24030300</td>\n",
              "      <td>EIB-FIXED</td>\n",
              "      <td>BORR 2403 -  FIXED-BULLET</td>\n",
              "      <td>0</td>\n",
              "      <td>HEDAC</td>\n",
              "      <td>CAD</td>\n",
              "      <td>-100000000.0</td>\n",
              "      <td>Y</td>\n",
              "      <td>2021-06-25</td>\n",
              "      <td>2021-07-09</td>\n",
              "      <td>2024-07-30</td>\n",
              "      <td>Issue</td>\n",
              "      <td>102.839</td>\n",
              "      <td>0.000000e+00</td>\n",
              "      <td>0.000000e+00</td>\n",
              "      <td>-4.318280e+03</td>\n",
              "      <td>-6.984518e+07</td>\n",
              "      <td>-3.697215e+04</td>\n",
              "    </tr>\n",
              "    <tr>\n",
              "      <th>AUD-NST-2024-08-07-FIXED-4.75</th>\n",
              "      <th>AU3CB0218444</th>\n",
              "      <th>1466032</th>\n",
              "      <td>1466032</td>\n",
              "      <td>20700700</td>\n",
              "      <td>EIB-FIXED</td>\n",
              "      <td>BORR 2070- FIXED-BULLET-Kangaroo</td>\n",
              "      <td>0</td>\n",
              "      <td>HEDAC</td>\n",
              "      <td>AUD</td>\n",
              "      <td>-200000000.0</td>\n",
              "      <td>Y</td>\n",
              "      <td>2021-06-29</td>\n",
              "      <td>2021-07-09</td>\n",
              "      <td>2024-08-07</td>\n",
              "      <td>Issue</td>\n",
              "      <td>113.049</td>\n",
              "      <td>0.000000e+00</td>\n",
              "      <td>0.000000e+00</td>\n",
              "      <td>-1.457838e+04</td>\n",
              "      <td>-1.424714e+08</td>\n",
              "      <td>-1.457093e+05</td>\n",
              "    </tr>\n",
              "    <tr>\n",
              "      <th>CAD-NST-2025-01-22-FIXED-1.900</th>\n",
              "      <th>US29878TDH41</th>\n",
              "      <th>1466583</th>\n",
              "      <td>1466583</td>\n",
              "      <td>24260200</td>\n",
              "      <td>EIB-FIXED</td>\n",
              "      <td>BORR 2426 -  FIXED-BULLET</td>\n",
              "      <td>0</td>\n",
              "      <td>HEDAC</td>\n",
              "      <td>CAD</td>\n",
              "      <td>-600000000.0</td>\n",
              "      <td>Y</td>\n",
              "      <td>2021-06-29</td>\n",
              "      <td>2021-07-09</td>\n",
              "      <td>2025-01-22</td>\n",
              "      <td>Issue</td>\n",
              "      <td>103.381</td>\n",
              "      <td>0.000000e+00</td>\n",
              "      <td>0.000000e+00</td>\n",
              "      <td>-2.953705e+04</td>\n",
              "      <td>-4.212755e+08</td>\n",
              "      <td>-8.231032e+05</td>\n",
              "    </tr>\n",
              "  </tbody>\n",
              "</table>\n",
              "<p>1104 rows × 19 columns</p>\n",
              "</div>"
            ],
            "text/plain": [
              "                                                     Parent Number  ...  Trn Figure Market Value (hist)\n",
              "Instrument                     ISIN         Trn                     ...                                \n",
              "GBP-STR-2030-07-22-INFLATION   XS0132108704 169844          169844  ...                   -2.267860e+08\n",
              "EUR-NST-2026-11-05-ZERO-B      DE0001345908 171091          171091  ...                   -2.595556e+08\n",
              "GBP-STR-2034-03-31-INFLATION   XS0129477047 171252          171252  ...                   -1.102429e+08\n",
              "GBP-STR-2034-09-30-INFLATION   XS0184056520 171568          171568  ...                   -1.499257e+08\n",
              "GBP-STR-2038-03-31-INFLATION   XS0172367921 171569          171569  ...                   -9.042917e+07\n",
              "...                                                            ...  ...                             ...\n",
              "EUR-NST-2024-09-13-FIXED-0.875 XS1247736793 1465066        1465066  ...                   -1.301417e+05\n",
              "USD-NST-2025-06-13-FIXED-2.875 XS1811852109 1465368        1465368  ...                   -4.034189e+05\n",
              "CAD-NST-2024-07-30-FIXED-1.750 XS2033281176 1465691        1465691  ...                   -3.697215e+04\n",
              "AUD-NST-2024-08-07-FIXED-4.75  AU3CB0218444 1466032        1466032  ...                   -1.457093e+05\n",
              "CAD-NST-2025-01-22-FIXED-1.900 US29878TDH41 1466583        1466583  ...                   -8.231032e+05\n",
              "\n",
              "[1104 rows x 19 columns]"
            ]
          },
          "metadata": {
            "tags": []
          },
          "execution_count": 75
        }
      ]
    },
    {
      "cell_type": "markdown",
      "metadata": {
        "id": "wMGalo1omjOr"
      },
      "source": [
        "# **Combine data for comparison**"
      ]
    },
    {
      "cell_type": "code",
      "metadata": {
        "id": "ZksamlpChav3"
      },
      "source": [
        "#combine data\n",
        "df_all_changes = pd.concat([old, new], axis='columns', keys=['old','new'], join='inner')"
      ],
      "execution_count": 76,
      "outputs": []
    },
    {
      "cell_type": "code",
      "metadata": {
        "id": "BE6HVfbgXLWM"
      },
      "source": [
        "\n",
        "\n",
        "#prepare function for comparing old values and new values\n",
        "def report_diff(x):\n",
        "    return x[0] if x[0] == x[1] else '{} ---> {}'.format(*x)\n",
        "\n",
        "\n",
        "\n"
      ],
      "execution_count": 77,
      "outputs": []
    },
    {
      "cell_type": "code",
      "metadata": {
        "id": "c-3upEEVla9k"
      },
      "source": [
        "#swap column indexes\n",
        "df_all_changes = df_all_changes.swaplevel(axis='columns')[new.columns[0:]]"
      ],
      "execution_count": 78,
      "outputs": []
    },
    {
      "cell_type": "code",
      "metadata": {
        "id": "AgzIXIfzlcR5"
      },
      "source": [
        "#apply the report_diff function\n",
        "df_changed = df_all_changes.groupby(level=0, axis=1).apply(lambda frame: frame.apply(report_diff, axis=1))"
      ],
      "execution_count": 79,
      "outputs": []
    },
    {
      "cell_type": "code",
      "metadata": {
        "id": "EunTLELfXLix"
      },
      "source": [
        "#create a list of text columns (int columns do not have '{} ---> {}')\n",
        "df_changed_text_columns = df_changed.select_dtypes(include='object')\n"
      ],
      "execution_count": 80,
      "outputs": []
    },
    {
      "cell_type": "code",
      "metadata": {
        "id": "Ia-o2ysHW2sM"
      },
      "source": [
        "#create 3 datasets:\n",
        "#diff - contains the differences\n",
        "#dropped - contains the dropped rows\n",
        "#added - contains the added rows\n",
        "diff = df_changed_text_columns[df_changed_text_columns.apply(lambda x: x.str.contains(\"--->\") == True, axis=1)]\n",
        "dropped = old.loc[dropped_rows]\n",
        "added = new.loc[added_rows]\n",
        "\n",
        "\n",
        "#create a name for the output excel file\n",
        "fname =  '{} vs {}.xlsx'.format(path_old.stem, path_new.stem)\n",
        "\n"
      ],
      "execution_count": 81,
      "outputs": []
    },
    {
      "cell_type": "code",
      "metadata": {
        "id": "F-b0X1fjojOR",
        "outputId": "a085e0d3-0b51-4c3e-a124-cc86faabe552",
        "colab": {
          "base_uri": "https://localhost:8080/",
          "height": 841
        }
      },
      "source": [
        "diff"
      ],
      "execution_count": 85,
      "outputs": [
        {
          "output_type": "execute_result",
          "data": {
            "text/html": [
              "<div>\n",
              "<style scoped>\n",
              "    .dataframe tbody tr th:only-of-type {\n",
              "        vertical-align: middle;\n",
              "    }\n",
              "\n",
              "    .dataframe tbody tr th {\n",
              "        vertical-align: top;\n",
              "    }\n",
              "\n",
              "    .dataframe thead th {\n",
              "        text-align: right;\n",
              "    }\n",
              "</style>\n",
              "<table border=\"1\" class=\"dataframe\">\n",
              "  <thead>\n",
              "    <tr style=\"text-align: right;\">\n",
              "      <th></th>\n",
              "      <th></th>\n",
              "      <th></th>\n",
              "      <th>Ccy</th>\n",
              "      <th>Designation IFRS</th>\n",
              "      <th>Final ZC Repayment (EUR)</th>\n",
              "      <th>IFRS9 Accounting Category Name</th>\n",
              "      <th>Instrument Group</th>\n",
              "      <th>Instrument Name</th>\n",
              "      <th>Is Quoted (Valuation date)</th>\n",
              "      <th>Sign</th>\n",
              "    </tr>\n",
              "    <tr>\n",
              "      <th>Instrument</th>\n",
              "      <th>ISIN</th>\n",
              "      <th>Trn</th>\n",
              "      <th></th>\n",
              "      <th></th>\n",
              "      <th></th>\n",
              "      <th></th>\n",
              "      <th></th>\n",
              "      <th></th>\n",
              "      <th></th>\n",
              "      <th></th>\n",
              "    </tr>\n",
              "  </thead>\n",
              "  <tbody>\n",
              "    <tr>\n",
              "      <th>GBP-STR-2030-07-22-INFLATION</th>\n",
              "      <th>XS0132108704</th>\n",
              "      <th>169844</th>\n",
              "      <td>NaN</td>\n",
              "      <td>NaN</td>\n",
              "      <td>NaN</td>\n",
              "      <td>NaN</td>\n",
              "      <td>NaN</td>\n",
              "      <td>NaN</td>\n",
              "      <td>NaN</td>\n",
              "      <td>NaN</td>\n",
              "    </tr>\n",
              "    <tr>\n",
              "      <th>EUR-NST-2026-11-05-ZERO-B</th>\n",
              "      <th>DE0001345908</th>\n",
              "      <th>171091</th>\n",
              "      <td>NaN</td>\n",
              "      <td>NaN</td>\n",
              "      <td>NaN</td>\n",
              "      <td>NaN</td>\n",
              "      <td>NaN</td>\n",
              "      <td>NaN</td>\n",
              "      <td>NaN</td>\n",
              "      <td>NaN</td>\n",
              "    </tr>\n",
              "    <tr>\n",
              "      <th>GBP-STR-2034-03-31-INFLATION</th>\n",
              "      <th>XS0129477047</th>\n",
              "      <th>171252</th>\n",
              "      <td>NaN</td>\n",
              "      <td>NaN</td>\n",
              "      <td>NaN</td>\n",
              "      <td>NaN</td>\n",
              "      <td>NaN</td>\n",
              "      <td>NaN</td>\n",
              "      <td>NaN</td>\n",
              "      <td>NaN</td>\n",
              "    </tr>\n",
              "    <tr>\n",
              "      <th>GBP-STR-2034-09-30-INFLATION</th>\n",
              "      <th>XS0184056520</th>\n",
              "      <th>171568</th>\n",
              "      <td>NaN</td>\n",
              "      <td>NaN</td>\n",
              "      <td>NaN</td>\n",
              "      <td>NaN</td>\n",
              "      <td>NaN</td>\n",
              "      <td>NaN</td>\n",
              "      <td>NaN</td>\n",
              "      <td>NaN</td>\n",
              "    </tr>\n",
              "    <tr>\n",
              "      <th>GBP-STR-2038-03-31-INFLATION</th>\n",
              "      <th>XS0172367921</th>\n",
              "      <th>171569</th>\n",
              "      <td>NaN</td>\n",
              "      <td>NaN</td>\n",
              "      <td>NaN</td>\n",
              "      <td>NaN</td>\n",
              "      <td>NaN</td>\n",
              "      <td>NaN</td>\n",
              "      <td>NaN</td>\n",
              "      <td>NaN</td>\n",
              "    </tr>\n",
              "    <tr>\n",
              "      <th>...</th>\n",
              "      <th>...</th>\n",
              "      <th>...</th>\n",
              "      <td>...</td>\n",
              "      <td>...</td>\n",
              "      <td>...</td>\n",
              "      <td>...</td>\n",
              "      <td>...</td>\n",
              "      <td>...</td>\n",
              "      <td>...</td>\n",
              "      <td>...</td>\n",
              "    </tr>\n",
              "    <tr>\n",
              "      <th>EUR-NST-2024-09-13-FIXED-0.875</th>\n",
              "      <th>XS1247736793</th>\n",
              "      <th>1465066</th>\n",
              "      <td>NaN</td>\n",
              "      <td>NaN</td>\n",
              "      <td>NaN</td>\n",
              "      <td>NaN</td>\n",
              "      <td>NaN</td>\n",
              "      <td>NaN</td>\n",
              "      <td>NaN</td>\n",
              "      <td>NaN</td>\n",
              "    </tr>\n",
              "    <tr>\n",
              "      <th>USD-NST-2025-06-13-FIXED-2.875</th>\n",
              "      <th>XS1811852109</th>\n",
              "      <th>1465368</th>\n",
              "      <td>NaN</td>\n",
              "      <td>NaN</td>\n",
              "      <td>NaN</td>\n",
              "      <td>NaN</td>\n",
              "      <td>NaN</td>\n",
              "      <td>NaN</td>\n",
              "      <td>NaN</td>\n",
              "      <td>NaN</td>\n",
              "    </tr>\n",
              "    <tr>\n",
              "      <th>CAD-NST-2024-07-30-FIXED-1.750</th>\n",
              "      <th>XS2033281176</th>\n",
              "      <th>1465691</th>\n",
              "      <td>NaN</td>\n",
              "      <td>NaN</td>\n",
              "      <td>NaN</td>\n",
              "      <td>NaN</td>\n",
              "      <td>NaN</td>\n",
              "      <td>NaN</td>\n",
              "      <td>NaN</td>\n",
              "      <td>NaN</td>\n",
              "    </tr>\n",
              "    <tr>\n",
              "      <th>AUD-NST-2024-08-07-FIXED-4.75</th>\n",
              "      <th>AU3CB0218444</th>\n",
              "      <th>1466032</th>\n",
              "      <td>NaN</td>\n",
              "      <td>NaN</td>\n",
              "      <td>NaN</td>\n",
              "      <td>NaN</td>\n",
              "      <td>NaN</td>\n",
              "      <td>NaN</td>\n",
              "      <td>NaN</td>\n",
              "      <td>NaN</td>\n",
              "    </tr>\n",
              "    <tr>\n",
              "      <th>CAD-NST-2025-01-22-FIXED-1.900</th>\n",
              "      <th>US29878TDH41</th>\n",
              "      <th>1466583</th>\n",
              "      <td>NaN</td>\n",
              "      <td>NaN</td>\n",
              "      <td>NaN</td>\n",
              "      <td>NaN</td>\n",
              "      <td>NaN</td>\n",
              "      <td>NaN</td>\n",
              "      <td>NaN</td>\n",
              "      <td>NaN</td>\n",
              "    </tr>\n",
              "  </tbody>\n",
              "</table>\n",
              "<p>1104 rows × 8 columns</p>\n",
              "</div>"
            ],
            "text/plain": [
              "                                                     Ccy  ... Sign\n",
              "Instrument                     ISIN         Trn           ...     \n",
              "GBP-STR-2030-07-22-INFLATION   XS0132108704 169844   NaN  ...  NaN\n",
              "EUR-NST-2026-11-05-ZERO-B      DE0001345908 171091   NaN  ...  NaN\n",
              "GBP-STR-2034-03-31-INFLATION   XS0129477047 171252   NaN  ...  NaN\n",
              "GBP-STR-2034-09-30-INFLATION   XS0184056520 171568   NaN  ...  NaN\n",
              "GBP-STR-2038-03-31-INFLATION   XS0172367921 171569   NaN  ...  NaN\n",
              "...                                                  ...  ...  ...\n",
              "EUR-NST-2024-09-13-FIXED-0.875 XS1247736793 1465066  NaN  ...  NaN\n",
              "USD-NST-2025-06-13-FIXED-2.875 XS1811852109 1465368  NaN  ...  NaN\n",
              "CAD-NST-2024-07-30-FIXED-1.750 XS2033281176 1465691  NaN  ...  NaN\n",
              "AUD-NST-2024-08-07-FIXED-4.75  AU3CB0218444 1466032  NaN  ...  NaN\n",
              "CAD-NST-2025-01-22-FIXED-1.900 US29878TDH41 1466583  NaN  ...  NaN\n",
              "\n",
              "[1104 rows x 8 columns]"
            ]
          },
          "metadata": {
            "tags": []
          },
          "execution_count": 85
        }
      ]
    },
    {
      "cell_type": "markdown",
      "metadata": {
        "id": "rmPNQs6RmExE"
      },
      "source": [
        "# Write dataframe to excel"
      ]
    },
    {
      "cell_type": "code",
      "metadata": {
        "id": "zKPYCeGS3npS",
        "outputId": "29491cf1-7a5d-45fa-84f7-6485cc400eae",
        "colab": {
          "base_uri": "https://localhost:8080/"
        }
      },
      "source": [
        "pip install XlsxWriter"
      ],
      "execution_count": 86,
      "outputs": [
        {
          "output_type": "stream",
          "text": [
            "Collecting XlsxWriter\n",
            "  Downloading XlsxWriter-1.4.4-py2.py3-none-any.whl (149 kB)\n",
            "\u001b[?25l\r\u001b[K     |██▏                             | 10 kB 20.4 MB/s eta 0:00:01\r\u001b[K     |████▍                           | 20 kB 23.9 MB/s eta 0:00:01\r\u001b[K     |██████▋                         | 30 kB 26.3 MB/s eta 0:00:01\r\u001b[K     |████████▊                       | 40 kB 28.6 MB/s eta 0:00:01\r\u001b[K     |███████████                     | 51 kB 31.5 MB/s eta 0:00:01\r\u001b[K     |█████████████▏                  | 61 kB 34.8 MB/s eta 0:00:01\r\u001b[K     |███████████████▎                | 71 kB 26.1 MB/s eta 0:00:01\r\u001b[K     |█████████████████▌              | 81 kB 27.3 MB/s eta 0:00:01\r\u001b[K     |███████████████████▊            | 92 kB 29.1 MB/s eta 0:00:01\r\u001b[K     |██████████████████████          | 102 kB 26.6 MB/s eta 0:00:01\r\u001b[K     |████████████████████████        | 112 kB 26.6 MB/s eta 0:00:01\r\u001b[K     |██████████████████████████▎     | 122 kB 26.6 MB/s eta 0:00:01\r\u001b[K     |████████████████████████████▌   | 133 kB 26.6 MB/s eta 0:00:01\r\u001b[K     |██████████████████████████████▋ | 143 kB 26.6 MB/s eta 0:00:01\r\u001b[K     |████████████████████████████████| 149 kB 26.6 MB/s \n",
            "\u001b[?25hInstalling collected packages: XlsxWriter\n",
            "Successfully installed XlsxWriter-1.4.4\n"
          ],
          "name": "stdout"
        }
      ]
    },
    {
      "cell_type": "code",
      "metadata": {
        "colab": {
          "base_uri": "https://localhost:8080/",
          "height": 357
        },
        "id": "z_ixqoQdl9DX",
        "outputId": "71154c04-1ce7-411d-9292-2671f6d2b622"
      },
      "source": [
        "#write dataframe to excel\n",
        "writer=pd.ExcelWriter(fname, engine='xlsxwriter')\n",
        "diff.to_excel(writer, sheet_name='diff', index=True)\n",
        "dropped.to_excel(writer, sheet_name='dropped', index=True)\n",
        "added.to_excel(writer, sheet_name='added', index=True)"
      ],
      "execution_count": 90,
      "outputs": [
        {
          "output_type": "error",
          "ename": "IndexError",
          "evalue": "ignored",
          "traceback": [
            "\u001b[0;31m---------------------------------------------------------------------------\u001b[0m",
            "\u001b[0;31mIndexError\u001b[0m                                Traceback (most recent call last)",
            "\u001b[0;32m<ipython-input-90-96ac39be691e>\u001b[0m in \u001b[0;36m<module>\u001b[0;34m()\u001b[0m\n\u001b[1;32m      2\u001b[0m \u001b[0mwriter\u001b[0m\u001b[0;34m=\u001b[0m\u001b[0mpd\u001b[0m\u001b[0;34m.\u001b[0m\u001b[0mExcelWriter\u001b[0m\u001b[0;34m(\u001b[0m\u001b[0mfname\u001b[0m\u001b[0;34m,\u001b[0m \u001b[0mengine\u001b[0m\u001b[0;34m=\u001b[0m\u001b[0;34m'xlsxwriter'\u001b[0m\u001b[0;34m)\u001b[0m\u001b[0;34m\u001b[0m\u001b[0;34m\u001b[0m\u001b[0m\n\u001b[1;32m      3\u001b[0m \u001b[0mdiff\u001b[0m\u001b[0;34m.\u001b[0m\u001b[0mto_excel\u001b[0m\u001b[0;34m(\u001b[0m\u001b[0mwriter\u001b[0m\u001b[0;34m,\u001b[0m \u001b[0msheet_name\u001b[0m\u001b[0;34m=\u001b[0m\u001b[0;34m'diff'\u001b[0m\u001b[0;34m,\u001b[0m \u001b[0mindex\u001b[0m\u001b[0;34m=\u001b[0m\u001b[0;32mTrue\u001b[0m\u001b[0;34m)\u001b[0m\u001b[0;34m\u001b[0m\u001b[0;34m\u001b[0m\u001b[0m\n\u001b[0;32m----> 4\u001b[0;31m \u001b[0mdropped\u001b[0m\u001b[0;34m.\u001b[0m\u001b[0mto_excel\u001b[0m\u001b[0;34m(\u001b[0m\u001b[0mwriter\u001b[0m\u001b[0;34m,\u001b[0m \u001b[0msheet_name\u001b[0m\u001b[0;34m=\u001b[0m\u001b[0;34m'dropped'\u001b[0m\u001b[0;34m,\u001b[0m \u001b[0mindex\u001b[0m\u001b[0;34m=\u001b[0m\u001b[0;32mTrue\u001b[0m\u001b[0;34m)\u001b[0m\u001b[0;34m\u001b[0m\u001b[0;34m\u001b[0m\u001b[0m\n\u001b[0m\u001b[1;32m      5\u001b[0m \u001b[0madded\u001b[0m\u001b[0;34m.\u001b[0m\u001b[0mto_excel\u001b[0m\u001b[0;34m(\u001b[0m\u001b[0mwriter\u001b[0m\u001b[0;34m,\u001b[0m \u001b[0msheet_name\u001b[0m\u001b[0;34m=\u001b[0m\u001b[0;34m'added'\u001b[0m\u001b[0;34m,\u001b[0m \u001b[0mindex\u001b[0m\u001b[0;34m=\u001b[0m\u001b[0;32mTrue\u001b[0m\u001b[0;34m)\u001b[0m\u001b[0;34m\u001b[0m\u001b[0;34m\u001b[0m\u001b[0m\n",
            "\u001b[0;32m/usr/local/lib/python3.7/dist-packages/pandas/core/generic.py\u001b[0m in \u001b[0;36mto_excel\u001b[0;34m(self, excel_writer, sheet_name, na_rep, float_format, columns, header, index, index_label, startrow, startcol, engine, merge_cells, encoding, inf_rep, verbose, freeze_panes)\u001b[0m\n\u001b[1;32m   2030\u001b[0m             \u001b[0mstartcol\u001b[0m\u001b[0;34m=\u001b[0m\u001b[0mstartcol\u001b[0m\u001b[0;34m,\u001b[0m\u001b[0;34m\u001b[0m\u001b[0;34m\u001b[0m\u001b[0m\n\u001b[1;32m   2031\u001b[0m             \u001b[0mfreeze_panes\u001b[0m\u001b[0;34m=\u001b[0m\u001b[0mfreeze_panes\u001b[0m\u001b[0;34m,\u001b[0m\u001b[0;34m\u001b[0m\u001b[0;34m\u001b[0m\u001b[0m\n\u001b[0;32m-> 2032\u001b[0;31m             \u001b[0mengine\u001b[0m\u001b[0;34m=\u001b[0m\u001b[0mengine\u001b[0m\u001b[0;34m,\u001b[0m\u001b[0;34m\u001b[0m\u001b[0;34m\u001b[0m\u001b[0m\n\u001b[0m\u001b[1;32m   2033\u001b[0m         )\n\u001b[1;32m   2034\u001b[0m \u001b[0;34m\u001b[0m\u001b[0m\n",
            "\u001b[0;32m/usr/local/lib/python3.7/dist-packages/pandas/io/formats/excel.py\u001b[0m in \u001b[0;36mwrite\u001b[0;34m(self, writer, sheet_name, startrow, startcol, freeze_panes, engine)\u001b[0m\n\u001b[1;32m    737\u001b[0m             \u001b[0mstartrow\u001b[0m\u001b[0;34m=\u001b[0m\u001b[0mstartrow\u001b[0m\u001b[0;34m,\u001b[0m\u001b[0;34m\u001b[0m\u001b[0;34m\u001b[0m\u001b[0m\n\u001b[1;32m    738\u001b[0m             \u001b[0mstartcol\u001b[0m\u001b[0;34m=\u001b[0m\u001b[0mstartcol\u001b[0m\u001b[0;34m,\u001b[0m\u001b[0;34m\u001b[0m\u001b[0;34m\u001b[0m\u001b[0m\n\u001b[0;32m--> 739\u001b[0;31m             \u001b[0mfreeze_panes\u001b[0m\u001b[0;34m=\u001b[0m\u001b[0mfreeze_panes\u001b[0m\u001b[0;34m,\u001b[0m\u001b[0;34m\u001b[0m\u001b[0;34m\u001b[0m\u001b[0m\n\u001b[0m\u001b[1;32m    740\u001b[0m         )\n\u001b[1;32m    741\u001b[0m         \u001b[0;32mif\u001b[0m \u001b[0mneed_save\u001b[0m\u001b[0;34m:\u001b[0m\u001b[0;34m\u001b[0m\u001b[0;34m\u001b[0m\u001b[0m\n",
            "\u001b[0;32m/usr/local/lib/python3.7/dist-packages/pandas/io/excel/_xlsxwriter.py\u001b[0m in \u001b[0;36mwrite_cells\u001b[0;34m(self, cells, sheet_name, startrow, startcol, freeze_panes)\u001b[0m\n\u001b[1;32m    210\u001b[0m             \u001b[0mwks\u001b[0m\u001b[0;34m.\u001b[0m\u001b[0mfreeze_panes\u001b[0m\u001b[0;34m(\u001b[0m\u001b[0;34m*\u001b[0m\u001b[0;34m(\u001b[0m\u001b[0mfreeze_panes\u001b[0m\u001b[0;34m)\u001b[0m\u001b[0;34m)\u001b[0m\u001b[0;34m\u001b[0m\u001b[0;34m\u001b[0m\u001b[0m\n\u001b[1;32m    211\u001b[0m \u001b[0;34m\u001b[0m\u001b[0m\n\u001b[0;32m--> 212\u001b[0;31m         \u001b[0;32mfor\u001b[0m \u001b[0mcell\u001b[0m \u001b[0;32min\u001b[0m \u001b[0mcells\u001b[0m\u001b[0;34m:\u001b[0m\u001b[0;34m\u001b[0m\u001b[0;34m\u001b[0m\u001b[0m\n\u001b[0m\u001b[1;32m    213\u001b[0m             \u001b[0mval\u001b[0m\u001b[0;34m,\u001b[0m \u001b[0mfmt\u001b[0m \u001b[0;34m=\u001b[0m \u001b[0mself\u001b[0m\u001b[0;34m.\u001b[0m\u001b[0m_value_with_fmt\u001b[0m\u001b[0;34m(\u001b[0m\u001b[0mcell\u001b[0m\u001b[0;34m.\u001b[0m\u001b[0mval\u001b[0m\u001b[0;34m)\u001b[0m\u001b[0;34m\u001b[0m\u001b[0;34m\u001b[0m\u001b[0m\n\u001b[1;32m    214\u001b[0m \u001b[0;34m\u001b[0m\u001b[0m\n",
            "\u001b[0;32m/usr/local/lib/python3.7/dist-packages/pandas/io/formats/excel.py\u001b[0m in \u001b[0;36mget_formatted_cells\u001b[0;34m(self)\u001b[0m\n\u001b[1;32m    686\u001b[0m \u001b[0;34m\u001b[0m\u001b[0m\n\u001b[1;32m    687\u001b[0m     \u001b[0;32mdef\u001b[0m \u001b[0mget_formatted_cells\u001b[0m\u001b[0;34m(\u001b[0m\u001b[0mself\u001b[0m\u001b[0;34m)\u001b[0m\u001b[0;34m:\u001b[0m\u001b[0;34m\u001b[0m\u001b[0;34m\u001b[0m\u001b[0m\n\u001b[0;32m--> 688\u001b[0;31m         \u001b[0;32mfor\u001b[0m \u001b[0mcell\u001b[0m \u001b[0;32min\u001b[0m \u001b[0mitertools\u001b[0m\u001b[0;34m.\u001b[0m\u001b[0mchain\u001b[0m\u001b[0;34m(\u001b[0m\u001b[0mself\u001b[0m\u001b[0;34m.\u001b[0m\u001b[0m_format_header\u001b[0m\u001b[0;34m(\u001b[0m\u001b[0;34m)\u001b[0m\u001b[0;34m,\u001b[0m \u001b[0mself\u001b[0m\u001b[0;34m.\u001b[0m\u001b[0m_format_body\u001b[0m\u001b[0;34m(\u001b[0m\u001b[0;34m)\u001b[0m\u001b[0;34m)\u001b[0m\u001b[0;34m:\u001b[0m\u001b[0;34m\u001b[0m\u001b[0;34m\u001b[0m\u001b[0m\n\u001b[0m\u001b[1;32m    689\u001b[0m             \u001b[0mcell\u001b[0m\u001b[0;34m.\u001b[0m\u001b[0mval\u001b[0m \u001b[0;34m=\u001b[0m \u001b[0mself\u001b[0m\u001b[0;34m.\u001b[0m\u001b[0m_format_value\u001b[0m\u001b[0;34m(\u001b[0m\u001b[0mcell\u001b[0m\u001b[0;34m.\u001b[0m\u001b[0mval\u001b[0m\u001b[0;34m)\u001b[0m\u001b[0;34m\u001b[0m\u001b[0;34m\u001b[0m\u001b[0m\n\u001b[1;32m    690\u001b[0m             \u001b[0;32myield\u001b[0m \u001b[0mcell\u001b[0m\u001b[0;34m\u001b[0m\u001b[0;34m\u001b[0m\u001b[0m\n",
            "\u001b[0;32m/usr/local/lib/python3.7/dist-packages/pandas/io/formats/excel.py\u001b[0m in \u001b[0;36m_format_header_regular\u001b[0;34m(self)\u001b[0m\n\u001b[1;32m    509\u001b[0m                 \u001b[0mcoloffset\u001b[0m \u001b[0;34m=\u001b[0m \u001b[0;36m1\u001b[0m\u001b[0;34m\u001b[0m\u001b[0;34m\u001b[0m\u001b[0m\n\u001b[1;32m    510\u001b[0m                 \u001b[0;32mif\u001b[0m \u001b[0misinstance\u001b[0m\u001b[0;34m(\u001b[0m\u001b[0mself\u001b[0m\u001b[0;34m.\u001b[0m\u001b[0mdf\u001b[0m\u001b[0;34m.\u001b[0m\u001b[0mindex\u001b[0m\u001b[0;34m,\u001b[0m \u001b[0mMultiIndex\u001b[0m\u001b[0;34m)\u001b[0m\u001b[0;34m:\u001b[0m\u001b[0;34m\u001b[0m\u001b[0;34m\u001b[0m\u001b[0m\n\u001b[0;32m--> 511\u001b[0;31m                     \u001b[0mcoloffset\u001b[0m \u001b[0;34m=\u001b[0m \u001b[0mlen\u001b[0m\u001b[0;34m(\u001b[0m\u001b[0mself\u001b[0m\u001b[0;34m.\u001b[0m\u001b[0mdf\u001b[0m\u001b[0;34m.\u001b[0m\u001b[0mindex\u001b[0m\u001b[0;34m[\u001b[0m\u001b[0;36m0\u001b[0m\u001b[0;34m]\u001b[0m\u001b[0;34m)\u001b[0m\u001b[0;34m\u001b[0m\u001b[0;34m\u001b[0m\u001b[0m\n\u001b[0m\u001b[1;32m    512\u001b[0m \u001b[0;34m\u001b[0m\u001b[0m\n\u001b[1;32m    513\u001b[0m             \u001b[0mcolnames\u001b[0m \u001b[0;34m=\u001b[0m \u001b[0mself\u001b[0m\u001b[0;34m.\u001b[0m\u001b[0mcolumns\u001b[0m\u001b[0;34m\u001b[0m\u001b[0;34m\u001b[0m\u001b[0m\n",
            "\u001b[0;32m/usr/local/lib/python3.7/dist-packages/pandas/core/indexes/multi.py\u001b[0m in \u001b[0;36m__getitem__\u001b[0;34m(self, key)\u001b[0m\n\u001b[1;32m   1903\u001b[0m             \u001b[0mretval\u001b[0m \u001b[0;34m=\u001b[0m \u001b[0;34m[\u001b[0m\u001b[0;34m]\u001b[0m\u001b[0;34m\u001b[0m\u001b[0;34m\u001b[0m\u001b[0m\n\u001b[1;32m   1904\u001b[0m             \u001b[0;32mfor\u001b[0m \u001b[0mlev\u001b[0m\u001b[0;34m,\u001b[0m \u001b[0mlevel_codes\u001b[0m \u001b[0;32min\u001b[0m \u001b[0mzip\u001b[0m\u001b[0;34m(\u001b[0m\u001b[0mself\u001b[0m\u001b[0;34m.\u001b[0m\u001b[0mlevels\u001b[0m\u001b[0;34m,\u001b[0m \u001b[0mself\u001b[0m\u001b[0;34m.\u001b[0m\u001b[0mcodes\u001b[0m\u001b[0;34m)\u001b[0m\u001b[0;34m:\u001b[0m\u001b[0;34m\u001b[0m\u001b[0;34m\u001b[0m\u001b[0m\n\u001b[0;32m-> 1905\u001b[0;31m                 \u001b[0;32mif\u001b[0m \u001b[0mlevel_codes\u001b[0m\u001b[0;34m[\u001b[0m\u001b[0mkey\u001b[0m\u001b[0;34m]\u001b[0m \u001b[0;34m==\u001b[0m \u001b[0;34m-\u001b[0m\u001b[0;36m1\u001b[0m\u001b[0;34m:\u001b[0m\u001b[0;34m\u001b[0m\u001b[0;34m\u001b[0m\u001b[0m\n\u001b[0m\u001b[1;32m   1906\u001b[0m                     \u001b[0mretval\u001b[0m\u001b[0;34m.\u001b[0m\u001b[0mappend\u001b[0m\u001b[0;34m(\u001b[0m\u001b[0mnp\u001b[0m\u001b[0;34m.\u001b[0m\u001b[0mnan\u001b[0m\u001b[0;34m)\u001b[0m\u001b[0;34m\u001b[0m\u001b[0;34m\u001b[0m\u001b[0m\n\u001b[1;32m   1907\u001b[0m                 \u001b[0;32melse\u001b[0m\u001b[0;34m:\u001b[0m\u001b[0;34m\u001b[0m\u001b[0;34m\u001b[0m\u001b[0m\n",
            "\u001b[0;31mIndexError\u001b[0m: index 0 is out of bounds for axis 0 with size 0"
          ]
        }
      ]
    },
    {
      "cell_type": "code",
      "metadata": {
        "id": "W1tBxlxFW25Z"
      },
      "source": [
        "#get xlswriter objects\n",
        "workbook = writer.book\n",
        "worksheet = writer.sheets['diff']\n",
        "worksheet.hide_gridlines(2)\n",
        "worksheet.set_default_row(15)"
      ],
      "execution_count": 91,
      "outputs": []
    },
    {
      "cell_type": "code",
      "metadata": {
        "id": "ExbETsF-W3FN"
      },
      "source": [
        "#get number of rows of the df diff\n",
        "row_count_str=str(len(diff.index)+1)"
      ],
      "execution_count": 92,
      "outputs": []
    },
    {
      "cell_type": "code",
      "metadata": {
        "id": "sI3yiT9hW3VG",
        "colab": {
          "base_uri": "https://localhost:8080/"
        },
        "outputId": "741486dd-9c8f-43ef-8f3b-22a2ce2e6b75"
      },
      "source": [
        "#define and apply formats\n",
        "highligt_fmt = workbook.add_format({'font_color': '#FF0000', 'bg_color':'#B1B3B3'})\n",
        "worksheet.conditional_format('A1:ZZ'+row_count_str, {'type':'text', 'criteria':'containing', 'value':'--->',\n",
        "                            'format':highligt_fmt})\n"
      ],
      "execution_count": 93,
      "outputs": [
        {
          "output_type": "execute_result",
          "data": {
            "text/plain": [
              "0"
            ]
          },
          "metadata": {
            "tags": []
          },
          "execution_count": 93
        }
      ]
    },
    {
      "cell_type": "code",
      "metadata": {
        "id": "Pzgi2NVcW3hx",
        "colab": {
          "base_uri": "https://localhost:8080/"
        },
        "outputId": "0e09b5f0-e700-4dba-9016-44b59683c95f"
      },
      "source": [
        "#save the output\n",
        "writer.save()\n",
        "print ('\\nDone.\\n')"
      ],
      "execution_count": 94,
      "outputs": [
        {
          "output_type": "stream",
          "text": [
            "\n",
            "Done.\n",
            "\n"
          ],
          "name": "stdout"
        }
      ]
    }
  ]
}