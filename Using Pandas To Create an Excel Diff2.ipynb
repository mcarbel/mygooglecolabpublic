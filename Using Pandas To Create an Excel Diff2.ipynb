{
  "nbformat": 4,
  "nbformat_minor": 0,
  "metadata": {
    "colab": {
      "name": "Welcome To Colaboratory",
      "provenance": [],
      "collapsed_sections": [],
      "toc_visible": true,
      "include_colab_link": true
    },
    "kernelspec": {
      "display_name": "Python 3",
      "name": "python3"
    }
  },
  "cells": [
    {
      "cell_type": "markdown",
      "metadata": {
        "id": "view-in-github",
        "colab_type": "text"
      },
      "source": [
        "<a href=\"https://colab.research.google.com/github/mcarbel/mygooglecolabpublic/blob/main/Using%20Pandas%20To%20Create%20an%20Excel%20Diff2.ipynb\" target=\"_parent\"><img src=\"https://colab.research.google.com/assets/colab-badge.svg\" alt=\"Open In Colab\"/></a>"
      ]
    },
    {
      "cell_type": "markdown",
      "metadata": {
        "id": "GJBs_flRovLc"
      },
      "source": [
        "## **Using Pandas To Create an Excel Diff**\n",
        "\n",
        "The document you are reading is not a static web page, but an interactive environment called a **Colab notebook** that lets you write and execute code.\n",
        "\n",
        "For example, here is a **code cell** with a short Python script that computes a value, stores it in a variable, and prints the result:"
      ]
    },
    {
      "cell_type": "code",
      "metadata": {
        "id": "gJr_9dXGpJ05"
      },
      "source": [
        "import pandas as pd\n",
        "import numpy as np\n",
        "# https://pbpython.com/excel-diff-pandas.html\n",
        "# Define the diff function to show the changes in each field\n",
        "def report_diff(x):\n",
        "    return x[0] if x[0] == x[1] else '{} ---> {}'.format(*x)\n",
        "\n",
        "# Read in the two files but call the data old and new and create columns to track\n",
        "old = pd.read_excel('sample-address-old.xlsx', 'Sheet1', na_values=['NA'])\n",
        "new = pd.read_excel('sample-address-new.xlsx', 'Sheet1', na_values=['NA'])\n",
        "old['version'] = \"old\"\n",
        "new['version'] = \"new\"\n",
        "\n",
        "#Join all the data together and ignore indexes so it all gets added\n",
        "full_set = pd.concat([old,new],ignore_index=True)\n",
        "\n",
        "# Let's see what changes in the main columns we care about\n",
        "changes = full_set.drop_duplicates(subset=[\"account number\",\"name\",\"street\",\"city\",\"state\",\"postal code\"],take_last=True)\n",
        "\n",
        "#We want to know where the duplicate account numbers are, that means there have been changes\n",
        "dupe_accts = changes.set_index('account number').index.get_duplicates()\n",
        "\n",
        "#Get all the duplicate rows\n",
        "dupes = changes[changes[\"account number\"].isin(dupe_accts)]\n",
        "\n",
        "#Pull out the old and new data into separate dataframes\n",
        "change_new = dupes[(dupes[\"version\"] == \"new\")]\n",
        "change_old = dupes[(dupes[\"version\"] == \"old\")]\n",
        "\n",
        "#Drop the temp columns - we don't need them now\n",
        "change_new = change_new.drop(['version'], axis=1)\n",
        "change_old = change_old.drop(['version'], axis=1)\n",
        "\n",
        "#Index on the account numbers\n",
        "change_new.set_index('account number',inplace=True)\n",
        "change_old.set_index('account number',inplace=True)\n",
        "\n",
        "#Now we can diff because we have two data sets of the same size with the same index\n",
        "diff_panel = pd.Panel(dict(df1=change_old,df2=change_new))\n",
        "diff_output = diff_panel.apply(report_diff, axis=0)\n",
        "\n",
        "#Diff'ing is done, we need to get a list of removed items\n",
        "\n",
        "#Flag all duplicated account numbers\n",
        "changes['duplicate']=changes[\"account number\"].isin(dupe_accts)\n",
        "\n",
        "#Identify non-duplicated items that are in the old version and did not show in the new version\n",
        "removed_accounts = changes[(changes[\"duplicate\"] == False) & (changes[\"version\"] == \"old\")]\n",
        "\n",
        "# We have the old and diff, we need to figure out which ones are new\n",
        "\n",
        "#Drop duplicates but keep the first item instead of the last\n",
        "new_account_set = full_set.drop_duplicates(subset=[\"account number\",\"name\",\"street\",\"city\",\"state\",\"postal code\"],take_last=False)\n",
        "\n",
        "#Identify dupes in this new dataframe\n",
        "new_account_set['duplicate']=new_account_set[\"account number\"].isin(dupe_accts)\n",
        "\n",
        "#Identify added accounts\n",
        "added_accounts = new_account_set[(new_account_set[\"duplicate\"] == False) & (new_account_set[\"version\"] == \"new\")]\n",
        "\n",
        "#Save the changes to excel but only include the columns we care about\n",
        "writer = pd.ExcelWriter(\"my-diff-2.xlsx\")\n",
        "diff_output.to_excel(writer,\"changed\")\n",
        "removed_accounts.to_excel(writer,\"removed\",index=False,columns=[\"account number\",\n",
        "                                         \"name\",\"street\",\"city\",\"state\",\"postal code\"])\n",
        "added_accounts.to_excel(writer,\"added\",index=False,columns=[\"account number\",\n",
        "                                         \"name\",\"street\",\"city\",\"state\",\"postal code\"])\n",
        "writer.save()"
      ],
      "execution_count": null,
      "outputs": []
    }
  ]
}