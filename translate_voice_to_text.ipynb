{
  "nbformat": 4,
  "nbformat_minor": 0,
  "metadata": {
    "colab": {
      "provenance": [],
      "include_colab_link": true
    },
    "kernelspec": {
      "name": "python3",
      "display_name": "Python 3"
    },
    "language_info": {
      "name": "python"
    },
    "accelerator": "GPU",
    "gpuClass": "standard"
  },
  "cells": [
    {
      "cell_type": "markdown",
      "metadata": {
        "id": "view-in-github",
        "colab_type": "text"
      },
      "source": [
        "<a href=\"https://colab.research.google.com/github/mcarbel/mygooglecolabpublic/blob/main/translate_voice_to_text.ipynb\" target=\"_parent\"><img src=\"https://colab.research.google.com/assets/colab-badge.svg\" alt=\"Open In Colab\"/></a>"
      ]
    },
    {
      "cell_type": "markdown",
      "source": [
        "# Install Whisper"
      ],
      "metadata": {
        "id": "Pe_a75UsNz1H"
      }
    },
    {
      "cell_type": "code",
      "source": [
        "# install openai's whisper\n",
        "!pip install git+https://github.com/openai/whisper.git\n",
        "\n",
        "# update the packages\n",
        "!sudo apt update && sudo apt install ffmpeg"
      ],
      "metadata": {
        "id": "nBn7aVOCN65K"
      },
      "execution_count": null,
      "outputs": []
    },
    {
      "cell_type": "markdown",
      "source": [
        "# 1.) ⬅️ Upload .WAV file\n",
        "# 2.) ⬇️ Change the directory\n",
        "# 3.) ⬇️ Specify the language\n",
        "# 4.) Run it 👌"
      ],
      "metadata": {
        "id": "TUOOSV5nOLLd"
      }
    },
    {
      "cell_type": "code",
      "source": [
        "# ------- change dir ----------------------------------------- specify language\n",
        "!whisper /content/audio2022-11-2823.10.13.wav --model medium --language German --task translate\n",
        "\n",
        "# Additional arguments:\n",
        "!whisper -h"
      ],
      "metadata": {
        "id": "D77bUIWiOOKG"
      },
      "execution_count": null,
      "outputs": []
    }
  ]
}